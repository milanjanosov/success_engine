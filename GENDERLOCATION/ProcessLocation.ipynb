{
 "metadata": {
  "kernelspec": {
   "display_name": "Python 2",
   "language": "python",
   "name": "python2"
  },
  "language_info": {
   "codemirror_mode": {
    "name": "ipython",
    "version": 2
   },
   "file_extension": ".py",
   "mimetype": "text/x-python",
   "name": "python",
   "nbconvert_exporter": "python",
   "pygments_lexer": "ipython2",
   "version": "2.7.12"
  },
  "name": "",
  "signature": "sha256:317121f91c7097ed6f44bfd989762ed0ca869f4f296560003b5493418bb92715"
 },
 "nbformat": 3,
 "nbformat_minor": 0,
 "worksheets": [
  {
   "cells": [
    {
     "cell_type": "heading",
     "level": 1,
     "metadata": {},
     "source": [
      "IMDb Locations"
     ]
    },
    {
     "cell_type": "code",
     "collapsed": false,
     "input": [
      "import pandas as pd\n",
      "import os\n",
      "from collections import Counter\n",
      "from collections import OrderedDict\n",
      "import numpy as np\n",
      "import matplotlib.pyplot as plt"
     ],
     "language": "python",
     "metadata": {},
     "outputs": [],
     "prompt_number": 1
    },
    {
     "cell_type": "code",
     "collapsed": false,
     "input": [
      "df_imdb = pd.DataFrame.from_csv('IMDb/imdb_birthlocations.dat', sep = '\\t',header=None)\n",
      "df_imdb.index.name = 'imdbid'\n",
      "df_imdb = df_imdb.rename(columns = {1 : 'location'} )\n",
      "df_imdb.head()"
     ],
     "language": "python",
     "metadata": {},
     "outputs": [
      {
       "output_type": "stream",
       "stream": "stderr",
       "text": [
        "-c:1: FutureWarning: from_csv is deprecated. Please use read_csv(...) instead. Note that some of the default arguments are different, so please refer to the documentation for from_csv when changing your function calls\n"
       ]
      },
      {
       "html": [
        "<div style=\"max-width:1500px;overflow:auto;\">\n",
        "<style scoped>\n",
        "    .dataframe tbody tr th:only-of-type {\n",
        "        vertical-align: middle;\n",
        "    }\n",
        "\n",
        "    .dataframe tbody tr th {\n",
        "        vertical-align: top;\n",
        "    }\n",
        "\n",
        "    .dataframe thead th {\n",
        "        text-align: right;\n",
        "    }\n",
        "</style>\n",
        "<table border=\"1\" class=\"dataframe\">\n",
        "  <thead>\n",
        "    <tr style=\"text-align: right;\">\n",
        "      <th></th>\n",
        "      <th>location</th>\n",
        "    </tr>\n",
        "    <tr>\n",
        "      <th>imdbid</th>\n",
        "      <th></th>\n",
        "    </tr>\n",
        "  </thead>\n",
        "  <tbody>\n",
        "    <tr>\n",
        "      <th>nm0605859</th>\n",
        "      <td>Leeds, Yorkshire, England, UK</td>\n",
        "    </tr>\n",
        "    <tr>\n",
        "      <th>nm0385725</th>\n",
        "      <td>USA</td>\n",
        "    </tr>\n",
        "    <tr>\n",
        "      <th>nm0211315</th>\n",
        "      <td>Pittsburgh, Pennsylvania, USA</td>\n",
        "    </tr>\n",
        "    <tr>\n",
        "      <th>nm0648937</th>\n",
        "      <td>Nigeria</td>\n",
        "    </tr>\n",
        "    <tr>\n",
        "      <th>nm0501326</th>\n",
        "      <td>Helsinki, Finland</td>\n",
        "    </tr>\n",
        "  </tbody>\n",
        "</table>\n",
        "</div>"
       ],
       "metadata": {},
       "output_type": "pyout",
       "prompt_number": 2,
       "text": [
        "                                location\n",
        "imdbid                                  \n",
        "nm0605859  Leeds, Yorkshire, England, UK\n",
        "nm0385725                            USA\n",
        "nm0211315  Pittsburgh, Pennsylvania, USA\n",
        "nm0648937                        Nigeria\n",
        "nm0501326              Helsinki, Finland"
       ]
      }
     ],
     "prompt_number": 2
    },
    {
     "cell_type": "code",
     "collapsed": false,
     "input": [
      "countries_list_o = df_imdb.location "
     ],
     "language": "python",
     "metadata": {},
     "outputs": [],
     "prompt_number": 3
    },
    {
     "cell_type": "code",
     "collapsed": false,
     "input": [
      "replace_countries = {\n",
      "    'Democratic Republic of the Congo' : 'Congo',\n",
      "    'Danmark' : 'Denmark',\n",
      "    'Federal Republic of Germany' : 'Germany',\n",
      "    'Germany (some sources say 1888' : 'Germany',\n",
      "    'Kingdom of the Two Sicilies': 'Italy',\n",
      "    'West Germany' : 'Germany',\n",
      "    'WestGermany' : 'Germany',\n",
      "    'Kingdom of Bahrain' : 'Bahrain',\n",
      "    'Moldova or the unrecognized Pridnestrovian Moldavian Republic ' : 'Moldova',\n",
      "    'Munich' : 'Germany',\n",
      "    'United States' : 'USA',\n",
      "    'U.S. VirgIslands' : 'USA',\n",
      "    'Toronto' : 'Canada',\n",
      "    'Swizzerland' : 'Switzerland',\n",
      "    'Slovak Republic' : 'Slovakia',\n",
      "    'Russian Empire'  : 'Russia',\n",
      "    'Prague' : 'Czech Republic',\n",
      "    'Croatia/Hrvatska' : 'Croatia',\n",
      "    'Canada ' : 'Canada',\n",
      "    'Buenos Aires' : 'Argentina',\n",
      "    'Budapest' : 'Hungary',\n",
      "    'Belgrade' : 'Serbia',\n",
      "    'Barcelona' : 'Spain',\n",
      "    'Zagreb' : 'Serbia',\n",
      "    'Wales'  : 'UK'   ,\n",
      "    'United Kingdom' : 'UK',\n",
      "    'Turkish Empire': 'Turkey',\n",
      "    'USSR' : 'Russia',\n",
      "    'Scotland' : 'UK',\n",
      "    'Trinidad' : 'Trinidad and Tobago',\n",
      "    'Stockholm' : 'Sweden',\n",
      "    'Southern Rhodesia' : 'Rhodesia',\n",
      "    'Moscow' : 'Russia',\n",
      "    'Titesti' : 'Romania',\n",
      "    'Santiago de Chile' : 'Chile',\n",
      "    'Republic of Macedonia' : 'Macedonia',\n",
      "    'Republic of Ireland' : 'Ireland',\n",
      "    'Republic of Georgia' : 'Georgia',\n",
      "    'Republic of China' : 'China',\n",
      "    'Persia' : 'Iran',\n",
      "    'Paris' : 'France',\n",
      "    'Oklahoma' : 'USA',\n",
      "    'London' : 'UK',\n",
      "    'Kiev' : 'Ukraine',\n",
      "    'Glasgow' : 'UK',\n",
      "    'Germany ' : 'Germany',\n",
      "    'German Democratic Republic' : 'Germany',\n",
      "    'Gent' : 'Belgium',\n",
      "    'East Germany' : 'Germany',\n",
      "    'British India' : 'India',\n",
      "    'Berlin' : 'Germany'\n",
      "\n",
      "}\n",
      "\n",
      "off_countries = [\n",
      "    'between Tanzania and Zambia',\n",
      "    'at sea',\n",
      "    'Turkey then part of Greece',\n",
      "    'SSSR', 'AustriaHungary',\n",
      "    'RSFSR', 'Czechoslovakia', 'British Crown Colony',\n",
      "    'Protectorate of Bohemia and Moravia',\n",
      "    '', 'French Protectorate Tunisia', 'French West Africa',\n",
      "    'Yugoslavia',  'Serbia and Montenegro', 'French West Indies',\n",
      "    'Ottoman Empire', 'Nagorno Karabakh', 'North Borneo', 'Korea', 'Indochina'\n",
      "    \n",
      "]\n",
      "\n",
      "\n",
      "countries_list_o = [l.split(', ')[-1].replace('in ','').replace('ship off ','').split('Republic or ')[-1].replace('-','')    for l in list(df_imdb.location)]\n",
      "countries_list_o = [l.split('[now ')[-1].replace('[','').replace(']','').split('(')[0].replace(')','').replace('USA ','') for l in countries_list_o]\n",
      "\n",
      "countries_list_r = []\n",
      "for c in countries_list_o:\n",
      "    if c not in off_countries:\n",
      "        if c in replace_countries:\n",
      "            countries_list_r.append(replace_countries[c])\n",
      "        else:\n",
      "            countries_list_r.append(c)\n",
      "    else:\n",
      "        countries_list_r.append(np.nan)\n",
      "\n",
      "\n",
      "imdb_countries = [k for k, v in dict(Counter(countries_list_r)).items() if v > 1]"
     ],
     "language": "python",
     "metadata": {},
     "outputs": [],
     "prompt_number": 4
    },
    {
     "cell_type": "code",
     "collapsed": false,
     "input": [],
     "language": "python",
     "metadata": {},
     "outputs": [],
     "prompt_number": 4
    },
    {
     "cell_type": "code",
     "collapsed": false,
     "input": [
      "df_imdb['country'] = countries_list_r\n",
      "print len(df_imdb)\n",
      "df_imdb_final = df_imdb.dropna()\n",
      "print len(df_imdb_final)\n",
      "imdb_countries = list(df_imdb_final.country)\n",
      "\n",
      "\n",
      "df_imdb_final.head()"
     ],
     "language": "python",
     "metadata": {},
     "outputs": [
      {
       "output_type": "stream",
       "stream": "stdout",
       "text": [
        "30927\n",
        "30509\n"
       ]
      },
      {
       "html": [
        "<div style=\"max-width:1500px;overflow:auto;\">\n",
        "<style scoped>\n",
        "    .dataframe tbody tr th:only-of-type {\n",
        "        vertical-align: middle;\n",
        "    }\n",
        "\n",
        "    .dataframe tbody tr th {\n",
        "        vertical-align: top;\n",
        "    }\n",
        "\n",
        "    .dataframe thead th {\n",
        "        text-align: right;\n",
        "    }\n",
        "</style>\n",
        "<table border=\"1\" class=\"dataframe\">\n",
        "  <thead>\n",
        "    <tr style=\"text-align: right;\">\n",
        "      <th></th>\n",
        "      <th>location</th>\n",
        "      <th>country</th>\n",
        "    </tr>\n",
        "    <tr>\n",
        "      <th>imdbid</th>\n",
        "      <th></th>\n",
        "      <th></th>\n",
        "    </tr>\n",
        "  </thead>\n",
        "  <tbody>\n",
        "    <tr>\n",
        "      <th>nm0605859</th>\n",
        "      <td>Leeds, Yorkshire, England, UK</td>\n",
        "      <td>UK</td>\n",
        "    </tr>\n",
        "    <tr>\n",
        "      <th>nm0385725</th>\n",
        "      <td>USA</td>\n",
        "      <td>USA</td>\n",
        "    </tr>\n",
        "    <tr>\n",
        "      <th>nm0211315</th>\n",
        "      <td>Pittsburgh, Pennsylvania, USA</td>\n",
        "      <td>USA</td>\n",
        "    </tr>\n",
        "    <tr>\n",
        "      <th>nm0648937</th>\n",
        "      <td>Nigeria</td>\n",
        "      <td>Nigeria</td>\n",
        "    </tr>\n",
        "    <tr>\n",
        "      <th>nm0501326</th>\n",
        "      <td>Helsinki, Finland</td>\n",
        "      <td>Finland</td>\n",
        "    </tr>\n",
        "  </tbody>\n",
        "</table>\n",
        "</div>"
       ],
       "metadata": {},
       "output_type": "pyout",
       "prompt_number": 5,
       "text": [
        "                                location  country\n",
        "imdbid                                           \n",
        "nm0605859  Leeds, Yorkshire, England, UK       UK\n",
        "nm0385725                            USA      USA\n",
        "nm0211315  Pittsburgh, Pennsylvania, USA      USA\n",
        "nm0648937                        Nigeria  Nigeria\n",
        "nm0501326              Helsinki, Finland  Finland"
       ]
      }
     ],
     "prompt_number": 5
    },
    {
     "cell_type": "code",
     "collapsed": false,
     "input": [
      "f, ax = plt.subplots(1,1, figsize=(16, 7)) \n",
      "x, y = zip(*[(k, v) for k, v in  OrderedDict(Counter(imdb_countries).most_common(50)).items()])\n",
      "\n",
      "\n",
      "fout = open('IMDb/top50countries.dat','w')\n",
      "fout.write('\\n'.join(x))\n",
      "fout.close()\n",
      "\n",
      "print x\n",
      "ax.set_yscale('log')\n",
      "ax.set_xticklabels(x, rotation = 90, fontsize= 12)\n",
      "ax.bar(x, y)"
     ],
     "language": "python",
     "metadata": {},
     "outputs": [
      {
       "output_type": "stream",
       "stream": "stdout",
       "text": [
        "('USA', 'UK', 'Germany', 'France', 'Italy', 'Canada', 'Spain', 'Russia', 'Japan', 'India', 'Poland', 'Brazil', 'Sweden', 'Australia', 'Argentina', 'Hungary', 'Denmark', 'Mexico', 'Austria', 'Netherlands', 'Czech Republic', 'Finland', 'Turkey', 'Ukraine', 'China', 'Belgium', 'Romania', 'Switzerland', 'Greece', 'Ireland', 'Norway', 'Portugal', 'Bulgaria', 'Israel', 'Iran', 'Egypt', 'New Zealand', 'Philippines', 'Croatia', 'South Africa', 'Taiwan', 'Hong Kong', 'South Korea', 'Estonia', 'Chile', 'Cuba', 'Georgia', 'Slovakia', 'Algeria', 'Pakistan')\n"
       ]
      },
      {
       "metadata": {},
       "output_type": "pyout",
       "prompt_number": 6,
       "text": [
        "<BarContainer object of 50 artists>"
       ]
      }
     ],
     "prompt_number": 6
    },
    {
     "cell_type": "code",
     "collapsed": false,
     "input": [
      "nat_country = {}\n",
      "for line in open('Music/demonyms.csv'):\n",
      "    nat,country = line.strip().split(',')\n",
      "    nat_country[country] = nat"
     ],
     "language": "python",
     "metadata": {},
     "outputs": [],
     "prompt_number": 7
    },
    {
     "cell_type": "code",
     "collapsed": false,
     "input": [],
     "language": "python",
     "metadata": {},
     "outputs": [],
     "prompt_number": 7
    },
    {
     "cell_type": "code",
     "collapsed": false,
     "input": [
      "nationalities_to_countries = {}\n",
      "\n",
      "for c in x:\n",
      "    if c in nat_country:\n",
      "        nationalities_to_countries[nat_country[c]] = c\n",
      "  \n",
      "\n",
      "\n",
      "nationalities_to_countries['American'] = 'USA'\n",
      "nationalities_to_countries['British']  = 'UK'\n",
      "nationalities_to_countries['Scottish'] = 'UK'\n",
      "nationalities_to_countries['English']  = 'UK'\n",
      "                           \n",
      "\n",
      "nationalities_to_countries['French']       = 'France'\n",
      "nationalities_to_countries['Canadian']     = 'Canada'\n",
      "nationalities_to_countries['Australian']   = 'Australia'\n",
      "nationalities_to_countries['Argentinian']  = 'Argentina'\n",
      "nationalities_to_countries['Hungarian']    = 'Hungary'\n",
      "nationalities_to_countries['Danish']       = 'Denmark'\n",
      "nationalities_to_countries['Mexican']      = 'Mexico'\n",
      "\n",
      "\n",
      "\n",
      "nationalities_to_countries['Irish']          = 'Ireland'\n",
      "nationalities_to_countries['Israeli']        = 'Israel'\n",
      "nationalities_to_countries['Jewish']         = 'Israel'\n",
      "nationalities_to_countries['Georgian']       = 'Georgia'\n",
      "nationalities_to_countries['Taiwanese']      = 'Taiwan'\n",
      "nationalities_to_countries['New Zealanders'] = 'New Zealand'\n",
      "nationalities_to_countries['Philippine']     = 'Philippines'\n",
      "nationalities_to_countries['Filipino']       = 'Philippines'\n",
      "nationalities_to_countries['Greek']          = 'Greece'\n",
      "nationalities_to_countries['Chinese']        = 'China'\n",
      "\n",
      "\n",
      "\n",
      "nationalities_to_countries\n",
      "\n"
     ],
     "language": "python",
     "metadata": {},
     "outputs": [
      {
       "metadata": {},
       "output_type": "pyout",
       "prompt_number": 8,
       "text": [
        "{'Algerian': 'Algeria',\n",
        " 'American': 'USA',\n",
        " 'Argentinian': 'Argentina',\n",
        " 'Argentino': 'Argentina',\n",
        " 'Australian': 'Australia',\n",
        " 'Austrian': 'Austria',\n",
        " 'Belgian': 'Belgium',\n",
        " 'Brazilian': 'Brazil',\n",
        " 'British': 'UK',\n",
        " 'Bulgarian': 'Bulgaria',\n",
        " 'Canadian': 'Canada',\n",
        " 'Canuck': 'Canada',\n",
        " 'Chilean': 'Chile',\n",
        " 'Chinese': 'China',\n",
        " 'Chino': 'China',\n",
        " 'Croatian': 'Croatia',\n",
        " 'Cuban': 'Cuba',\n",
        " 'Czech': 'Czech Republic',\n",
        " 'Danish': 'Denmark',\n",
        " 'Dansker': 'Denmark',\n",
        " 'Egyptian': 'Egypt',\n",
        " 'English': 'UK',\n",
        " 'Estonian': 'Estonia',\n",
        " 'Filipino': 'Philippines',\n",
        " 'Finnish': 'Finland',\n",
        " 'French': 'France',\n",
        " 'Frenchwoman': 'France',\n",
        " 'Georgian': 'Georgia',\n",
        " 'German': 'Germany',\n",
        " 'Greek': 'Greece',\n",
        " 'Hellenic': 'Greece',\n",
        " 'Hongkongish': 'Hong Kong',\n",
        " 'Hungarian': 'Hungary',\n",
        " 'Indian': 'India',\n",
        " 'Iranian': 'Iran',\n",
        " 'Irish': 'Ireland',\n",
        " 'Irishwoman': 'Ireland',\n",
        " 'Israeli': 'Israel',\n",
        " 'Israelite': 'Israel',\n",
        " 'Italian': 'Italy',\n",
        " 'Japanese': 'Japan',\n",
        " 'Jewish': 'Israel',\n",
        " 'Magyar': 'Hungary',\n",
        " 'Mexican': 'Mexico',\n",
        " 'Mexicano': 'Mexico',\n",
        " 'Netherlandic': 'Netherlands',\n",
        " 'New Zealanders': 'New Zealand',\n",
        " 'Norwegian': 'Norway',\n",
        " 'Nz': 'New Zealand',\n",
        " 'Ozzie': 'Australia',\n",
        " 'Pakistani': 'Pakistan',\n",
        " 'Philippine': 'Philippines',\n",
        " 'Pinoy': 'Philippines',\n",
        " 'Polish': 'Poland',\n",
        " 'Portuguese': 'Portugal',\n",
        " 'Romanian': 'Romania',\n",
        " 'Russian': 'Russia',\n",
        " 'Sand-Hiller': 'Georgia',\n",
        " 'Scottish': 'UK',\n",
        " 'Slovakian': 'Slovakia',\n",
        " 'South African': 'South Africa',\n",
        " 'South Korean': 'South Korea',\n",
        " 'Spanish': 'Spain',\n",
        " 'Swedish': 'Sweden',\n",
        " 'Swiss': 'Switzerland',\n",
        " 'Taiwanese': 'Taiwan',\n",
        " 'Turkish': 'Turkey',\n",
        " 'Ukrainian': 'Ukraine'}"
       ]
      }
     ],
     "prompt_number": 8
    },
    {
     "cell_type": "code",
     "collapsed": false,
     "input": [
      "fout = open('IMDb/top50nationalities.dat', 'w')\n",
      "\n",
      "for nat, country in nationalities_to_countries.items():\n",
      "    fout.write(nat + '\\t' + country + '\\n')\n",
      "fout.close()"
     ],
     "language": "python",
     "metadata": {},
     "outputs": [],
     "prompt_number": 9
    },
    {
     "cell_type": "markdown",
     "metadata": {},
     "source": [
      "IMDb Qs"
     ]
    },
    {
     "cell_type": "code",
     "collapsed": false,
     "input": [
      "top50        = [line.strip() for line in open('IMDb/top50countries.dat')]\n",
      "\n",
      "rootfolder  = '../QMODELNEW/pQData'\n",
      "moviecareers = ['director-10', 'art_director-20', 'composer-10', 'writer-10', 'producer-10']\n",
      "\n",
      "\n",
      "fields_ids = {}\n",
      "\n",
      "for m in moviecareers:\n",
      "    fields_ids[m] = set()\n",
      "    for line in open(rootfolder + '/Q_distribution_' + m + '_0.dat'):\n",
      "        imdbid, N = line.strip().split('\\t')\n",
      "        fields_ids[m].add(imdbid)\n",
      "        \n",
      "fields_ids.keys()     \n",
      "\n",
      "df_imdb_list = {}\n",
      "\n",
      "\n",
      "for field, lista in fields_ids.items():\n",
      "    df_imdb_list[field] = df_imdb[df_imdb.index.isin(lista)]\n",
      "    df_imdb_list[field] = df_imdb_list[field][df_imdb_list[field].country.isin(top50)]\n",
      "    \n",
      "    print len(df_imdb_list[field])\n",
      "    \n",
      "    \n"
     ],
     "language": "python",
     "metadata": {},
     "outputs": [
      {
       "output_type": "stream",
       "stream": "stdout",
       "text": [
        "5057\n",
        "4999\n",
        "6520\n",
        "276\n",
        "2216\n"
       ]
      }
     ],
     "prompt_number": 10
    },
    {
     "cell_type": "code",
     "collapsed": false,
     "input": [],
     "language": "python",
     "metadata": {},
     "outputs": [],
     "prompt_number": 10
    },
    {
     "cell_type": "code",
     "collapsed": false,
     "input": [
      "rootfolder  = '../QMODELNEW/pQData'\n",
      "moviecareers = ['director-10', 'art_director-20', 'composer-10', 'writer-10', 'producer-10']\n",
      "\n",
      "\n",
      "movieQs = {}\n",
      "\n",
      "for m in moviecareers:\n",
      "    movieQs[m] = {}\n",
      "    for line in open(rootfolder + '/Q_distribution_' + m + '_0.dat'):\n",
      "        imdbid, Q = line.strip().split('\\t')\n",
      "        movieQs[m][imdbid] = float(Q)\n",
      "        \n",
      "movieQs.keys()       "
     ],
     "language": "python",
     "metadata": {},
     "outputs": [
      {
       "metadata": {},
       "output_type": "pyout",
       "prompt_number": 11,
       "text": [
        "['director-10', 'producer-10', 'writer-10', 'art_director-20', 'composer-10']"
       ]
      }
     ],
     "prompt_number": 11
    },
    {
     "cell_type": "code",
     "collapsed": false,
     "input": [
      "df_imdb['country'] = countries_list_r\n",
      "print len(df_imdb)\n",
      "df_imdb_final = df_imdb.dropna()\n",
      "print len(df_imdb_final)\n",
      "imdb_countries = list(df_imdb_final.country)\n",
      "movieLocations = df_imdb_final.drop(columns = ['location'])\n"
     ],
     "language": "python",
     "metadata": {},
     "outputs": [
      {
       "output_type": "stream",
       "stream": "stdout",
       "text": [
        "30927\n",
        "30509\n"
       ]
      }
     ],
     "prompt_number": 12
    },
    {
     "cell_type": "heading",
     "level": 1,
     "metadata": {},
     "source": [
      "Goodreads Locations"
     ]
    },
    {
     "cell_type": "code",
     "collapsed": false,
     "input": [
      "df_goodreads = pd.DataFrame.from_csv('Goodreads/AuthorLocationsFiltered/authors_filtered_locations.dat', sep = '\\t',header=None)\n",
      "df_goodreads.index.name = 'goodreadsid'\n",
      "df_goodreads = df_goodreads.rename(columns = {1: 'nationality', 2 : 'location'})\n",
      "df_goodreads.index = df_goodreads.index.astype(int)\n",
      "\n",
      "goodreadsLocations = df_goodreads\n",
      "goodreadsLocations.head()"
     ],
     "language": "python",
     "metadata": {},
     "outputs": [
      {
       "html": [
        "<div style=\"max-width:1500px;overflow:auto;\">\n",
        "<style scoped>\n",
        "    .dataframe tbody tr th:only-of-type {\n",
        "        vertical-align: middle;\n",
        "    }\n",
        "\n",
        "    .dataframe tbody tr th {\n",
        "        vertical-align: top;\n",
        "    }\n",
        "\n",
        "    .dataframe thead th {\n",
        "        text-align: right;\n",
        "    }\n",
        "</style>\n",
        "<table border=\"1\" class=\"dataframe\">\n",
        "  <thead>\n",
        "    <tr style=\"text-align: right;\">\n",
        "      <th></th>\n",
        "      <th>nationality</th>\n",
        "    </tr>\n",
        "    <tr>\n",
        "      <th>goodreadsid</th>\n",
        "      <th></th>\n",
        "    </tr>\n",
        "  </thead>\n",
        "  <tbody>\n",
        "    <tr>\n",
        "      <th>228057</th>\n",
        "      <td>Canada</td>\n",
        "    </tr>\n",
        "    <tr>\n",
        "      <th>4479945</th>\n",
        "      <td>Italy</td>\n",
        "    </tr>\n",
        "    <tr>\n",
        "      <th>1511225</th>\n",
        "      <td>Australia</td>\n",
        "    </tr>\n",
        "    <tr>\n",
        "      <th>1904983</th>\n",
        "      <td>China</td>\n",
        "    </tr>\n",
        "    <tr>\n",
        "      <th>1019343</th>\n",
        "      <td>Iran</td>\n",
        "    </tr>\n",
        "  </tbody>\n",
        "</table>\n",
        "</div>"
       ],
       "metadata": {},
       "output_type": "pyout",
       "prompt_number": 13,
       "text": [
        "            nationality\n",
        "goodreadsid            \n",
        "228057           Canada\n",
        "4479945           Italy\n",
        "1511225       Australia\n",
        "1904983           China\n",
        "1019343            Iran"
       ]
      }
     ],
     "prompt_number": 13
    },
    {
     "cell_type": "code",
     "collapsed": false,
     "input": [
      "booksQ = {}\n",
      "booksQ['authors-50'] = {}\n",
      "rootfolder  = '../QMODELNEW/pQData'\n",
      "\n",
      "for line in open(rootfolder + '/Q_distribution_authors-50_0.dat'):\n",
      "        imdbid, Q = line.strip().split('\\t')\n",
      "        booksQ['authors-50'][imdbid] = float(Q)\n",
      "        \n",
      "booksQ.keys()"
     ],
     "language": "python",
     "metadata": {},
     "outputs": [
      {
       "metadata": {},
       "output_type": "pyout",
       "prompt_number": 14,
       "text": [
        "['authors-50']"
       ]
      }
     ],
     "prompt_number": 14
    },
    {
     "cell_type": "code",
     "collapsed": false,
     "input": [],
     "language": "python",
     "metadata": {},
     "outputs": [],
     "prompt_number": 14
    },
    {
     "cell_type": "heading",
     "level": 1,
     "metadata": {},
     "source": [
      "Music locations"
     ]
    },
    {
     "cell_type": "code",
     "collapsed": false,
     "input": [
      "genres = ['electro', 'rock', 'pop', 'jazz', 'classical', 'funk', 'folk', 'hiphop']\n",
      "\n",
      "musicLocations  = {}\n",
      "all_genres_data   = []\n",
      "\n",
      "for genre in genres: \n",
      "    \n",
      "    df = pd.DataFrame.from_csv('Music/MusicLocationsFiltered/' + genre + '_filtered_locations.dat', sep = '\\t', header = None)\n",
      "    df = df.rename(columns = {1 : 'name', 2 : 'gender'})\n",
      "    df.index.name = 'id'\n",
      "    musicLocations[genre] = df\n",
      "    all_genres_data.append(df)\n",
      "\n",
      "    print 'GENRE: ', genre\n"
     ],
     "language": "python",
     "metadata": {},
     "outputs": [
      {
       "output_type": "stream",
       "stream": "stdout",
       "text": [
        "GENRE:  electro\n",
        "GENRE:  rock\n",
        "GENRE:  pop\n",
        "GENRE:  jazz\n",
        "GENRE: "
       ]
      },
      {
       "output_type": "stream",
       "stream": "stdout",
       "text": [
        " classical\n",
        "GENRE:  funk\n",
        "GENRE:  folk\n",
        "GENRE:  hiphop\n"
       ]
      },
      {
       "output_type": "stream",
       "stream": "stderr",
       "text": [
        "-c:8: FutureWarning: from_csv is deprecated. Please use read_csv(...) instead. Note that some of the default arguments are different, so please refer to the documentation for from_csv when changing your function calls\n"
       ]
      }
     ],
     "prompt_number": 15
    },
    {
     "cell_type": "code",
     "collapsed": false,
     "input": [
      "classical = {line.strip().split('\\t')[1] : str(line.strip().split('\\t')[0]) for line in open('Music/artist_ids_discogs_classical.dat')}  \n",
      "jazz      = {line.strip().split('\\t')[1] : str(line.strip().split('\\t')[0]) for line in open('Music/artist_ids_discogs_jazz.dat')}  \n",
      "hiphop    = {line.strip().split('\\t')[1] : str(line.strip().split('\\t')[0]) for line in open('Music/artist_ids_discogs_hiphop.dat')}  \n",
      "funk      = {line.strip().split('\\t')[1] : str(line.strip().split('\\t')[0]) for line in open('Music/artist_ids_discogs_funk.dat')}  \n",
      "folk      = {line.strip().split('\\t')[1] : str(line.strip().split('\\t')[0]) for line in open('Music/artist_ids_discogs_folk.dat')}  \n",
      "rock      = {line.strip().split('\\t')[1] : str(line.strip().split('\\t')[0]) for line in open('Music/artist_ids_discogs_rock.dat') if len(line.strip().split('\\t')) == 2}  "
     ],
     "language": "python",
     "metadata": {},
     "outputs": [],
     "prompt_number": 16
    },
    {
     "cell_type": "code",
     "collapsed": false,
     "input": [
      "rootfolder  = '../QMODELNEW/pQData'\n",
      "genres      = ['electro-80', 'rock-80', 'pop-80', 'jazz-80', 'classical-80', 'funk-80', 'folk-80', 'hiphop-80']\n",
      "\n",
      "musicQs = {}\n",
      "\n",
      "for m in genres:\n",
      "    musicQs[m] = {}                 \n",
      "    for line in open(rootfolder + '/Q_distribution_' + m + '_0.dat'):\n",
      "        if len(line.strip().split('\\t')) == 2:\n",
      "            imdbid, Q = line.strip().split('\\t')\n",
      "            \n",
      "            if 'classical' in m:\n",
      "                try:\n",
      "                    imdbid = classical[imdbid]\n",
      "                    musicQs[m][imdbid] = float(Q)\n",
      "                except:\n",
      "                    pass\n",
      "            \n",
      "            elif 'jazz' in m:\n",
      "                try:\n",
      "                    imdbid = jazz[imdbid]\n",
      "                    musicQs[m][imdbid] = float(Q)\n",
      "                except:\n",
      "                    pass\n",
      "                \n",
      "            elif 'folk' in m:\n",
      "                try:\n",
      "                    imdbid = folk[imdbid]\n",
      "                    musicQs[m][imdbid] = float(Q)\n",
      "                except:\n",
      "                    pass \n",
      "                \n",
      "            elif 'funk' in m:\n",
      "                try:\n",
      "                    imdbid = funk[imdbid]\n",
      "                    musicQs[m][imdbid] = float(Q)\n",
      "                except:\n",
      "                    pass   \n",
      "        \n",
      "            elif 'hiphop' in m:\n",
      "                try:\n",
      "                    imdbid = hiphop[imdbid]\n",
      "                    musicQs[m][imdbid] = float(Q)\n",
      "                except:\n",
      "                    pass                   \n",
      "            \n",
      "            \n",
      "            elif 'rock' in m:\n",
      "                try:\n",
      "                    imdbid = rock[imdbid]\n",
      "                    musicQs[m][imdbid] = float(Q)\n",
      "                except:\n",
      "                    pass                  \n",
      "            \n",
      "                \n",
      "            else:\n",
      "                musicQs[m][imdbid] = float(Q)\n",
      "                \n",
      "  "
     ],
     "language": "python",
     "metadata": {},
     "outputs": [],
     "prompt_number": 17
    },
    {
     "cell_type": "code",
     "collapsed": false,
     "input": [],
     "language": "python",
     "metadata": {},
     "outputs": [],
     "prompt_number": 17
    },
    {
     "cell_type": "heading",
     "level": 1,
     "metadata": {},
     "source": [
      "Merging stuff"
     ]
    },
    {
     "cell_type": "code",
     "collapsed": false,
     "input": [
      "goodreadsLocations.head()"
     ],
     "language": "python",
     "metadata": {},
     "outputs": [
      {
       "html": [
        "<div style=\"max-width:1500px;overflow:auto;\">\n",
        "<style scoped>\n",
        "    .dataframe tbody tr th:only-of-type {\n",
        "        vertical-align: middle;\n",
        "    }\n",
        "\n",
        "    .dataframe tbody tr th {\n",
        "        vertical-align: top;\n",
        "    }\n",
        "\n",
        "    .dataframe thead th {\n",
        "        text-align: right;\n",
        "    }\n",
        "</style>\n",
        "<table border=\"1\" class=\"dataframe\">\n",
        "  <thead>\n",
        "    <tr style=\"text-align: right;\">\n",
        "      <th></th>\n",
        "      <th>nationality</th>\n",
        "    </tr>\n",
        "    <tr>\n",
        "      <th>goodreadsid</th>\n",
        "      <th></th>\n",
        "    </tr>\n",
        "  </thead>\n",
        "  <tbody>\n",
        "    <tr>\n",
        "      <th>228057</th>\n",
        "      <td>Canada</td>\n",
        "    </tr>\n",
        "    <tr>\n",
        "      <th>4479945</th>\n",
        "      <td>Italy</td>\n",
        "    </tr>\n",
        "    <tr>\n",
        "      <th>1511225</th>\n",
        "      <td>Australia</td>\n",
        "    </tr>\n",
        "    <tr>\n",
        "      <th>1904983</th>\n",
        "      <td>China</td>\n",
        "    </tr>\n",
        "    <tr>\n",
        "      <th>1019343</th>\n",
        "      <td>Iran</td>\n",
        "    </tr>\n",
        "  </tbody>\n",
        "</table>\n",
        "</div>"
       ],
       "metadata": {},
       "output_type": "pyout",
       "prompt_number": 18,
       "text": [
        "            nationality\n",
        "goodreadsid            \n",
        "228057           Canada\n",
        "4479945           Italy\n",
        "1511225       Australia\n",
        "1904983           China\n",
        "1019343            Iran"
       ]
      }
     ],
     "prompt_number": 18
    },
    {
     "cell_type": "code",
     "collapsed": false,
     "input": [
      "#movieLocations\n",
      "#musicLocations\n",
      "#goodreadsLocations\n",
      "\n",
      "#movieQs\n",
      "#musicQs\n",
      "#booksQ"
     ],
     "language": "python",
     "metadata": {},
     "outputs": [],
     "prompt_number": 19
    },
    {
     "cell_type": "code",
     "collapsed": false,
     "input": [
      "# merge Qs\n",
      "\n",
      "mergedQs = {}\n",
      "\n",
      "for movies, lists in movieQs.items():\n",
      "    mergedQs[movies] = lists\n",
      "\n",
      "for genre, lists in musicQs.items():\n",
      "    mergedQs[genre] = lists\n",
      "    \n",
      "for authors, lists in booksQ.items():\n",
      "    mergedQs[authors] = lists\n",
      "     "
     ],
     "language": "python",
     "metadata": {},
     "outputs": [],
     "prompt_number": 20
    },
    {
     "cell_type": "code",
     "collapsed": false,
     "input": [
      "mergedLocations = {}\n",
      "\n",
      "for genre, lists in df_imdb_list.items():        \n",
      "    mergedLocations[genre] = lists.drop(columns = ['location'])\n",
      "\n",
      "for movie, lists in musicLocations.items():\n",
      "    mergedLocations[movie] = lists    \n",
      "   \n",
      "mergedLocations['authors'] = goodreadsLocations\n",
      "mergedLocations['director-10'].head()\n",
      "\n",
      "mergedQs_filtered = {}\n",
      "mergedLocations_filtered = {}\n",
      "\n",
      "\n",
      "for key, value in mergedQs.items():\n",
      "    mergedQs_filtered[key.split('-')[0]] = value\n",
      "  \n",
      " \n",
      "for key, value in mergedLocations.items():\n",
      "    mergedLocations_filtered[key.split('-')[0]] = value\n",
      "     \n",
      "    \n",
      "print mergedQs.keys()  \n",
      "print mergedQs_filtered.keys()\n",
      "print mergedLocations_filtered.keys()   "
     ],
     "language": "python",
     "metadata": {},
     "outputs": [
      {
       "output_type": "stream",
       "stream": "stdout",
       "text": [
        "['director-10', 'electro-80', 'pop-80', 'composer-10', 'funk-80', 'classical-80', 'writer-10', 'producer-10', 'hiphop-80', 'folk-80', 'rock-80', 'authors-50', 'art_director-20', 'jazz-80']\n",
        "['jazz', 'producer', 'classical', 'authors', 'writer', 'pop', 'director', 'hiphop', 'folk', 'composer', 'rock', 'art_director', 'electro', 'funk']\n",
        "['writer', 'producer', 'classical', 'authors', 'jazz', 'pop', 'director', 'hiphop', 'folk', 'composer', 'rock', 'art_director', 'electro', 'funk']\n"
       ]
      }
     ],
     "prompt_number": 21
    },
    {
     "cell_type": "code",
     "collapsed": false,
     "input": [
      "bardata        = []\n",
      "df_locations_Q = {}\n",
      "\n",
      "for field, lista in mergedQs_filtered.items():\n",
      "    \n",
      "    df_Q = pd.DataFrame(lista.items())\n",
      "    \n",
      "    df_Q.set_index(0, inplace=True)\n",
      "    df_Q.index.name = 'id'\n",
      "    df_Q = df_Q.rename(columns = {1 : 'Q'})\n",
      "    df_Q.index = df_Q.index.map(str)\n",
      "\n",
      "    \n",
      "    df_L = mergedLocations_filtered[field]\n",
      "    df_L = df_L.rename(columns = {'name' : 'location'})    \n",
      "    df_L = df_L.rename(columns = {'country' : 'location'})    \n",
      "    df_L = df_L.rename(columns = {'imdbid' : 'id'})    \n",
      "    df_L = df_L.rename(columns = {'goodreadsid' : 'id'})   \n",
      "    df_L = df_L.rename(columns = {'nationality' : 'location'})   \n",
      "\n",
      "    \n",
      "    df_L.location =  df_L.location.str.lower()\n",
      "    \n",
      "    \n",
      "    df_L.index.name = 'id'\n",
      "    \n",
      "    print field, len(set(list(df_L.location)))\n",
      "    \n",
      "    df_L.index = df_L.index.astype(str)\n",
      "\n",
      "    \n",
      "    \n",
      "    a = set(df_Q.index)\n",
      "    b = set(df_L.index)\n",
      "    \n",
      "    \n",
      "    bardata.append((field, float(len(a.intersection(b)))/len(a), len(a)   ))\n",
      "    \n",
      "    df_merged = df_L.join(df_Q)\n",
      "    df_merged = df_merged.dropna()\n",
      "    \n",
      "    df_locations_Q[field] = df_merged\n",
      "    \n"
     ],
     "language": "python",
     "metadata": {},
     "outputs": [
      {
       "output_type": "stream",
       "stream": "stdout",
       "text": [
        "jazz 47\n",
        "producer 49\n",
        "classical 45\n",
        "authors"
       ]
      },
      {
       "output_type": "stream",
       "stream": "stdout",
       "text": [
        " 50\n",
        "writer"
       ]
      },
      {
       "output_type": "stream",
       "stream": "stdout",
       "text": [
        " 50\n",
        "pop 47\n",
        "director 50\n",
        "hiphop 45\n",
        "folk"
       ]
      },
      {
       "output_type": "stream",
       "stream": "stdout",
       "text": [
        " 47\n",
        "composer 50\n",
        "rock 48\n",
        "art_director"
       ]
      },
      {
       "output_type": "stream",
       "stream": "stdout",
       "text": [
        " 27\n",
        "electro 50\n",
        "funk"
       ]
      },
      {
       "output_type": "stream",
       "stream": "stdout",
       "text": [
        " 47\n"
       ]
      }
     ],
     "prompt_number": 22
    },
    {
     "cell_type": "code",
     "collapsed": false,
     "input": [],
     "language": "python",
     "metadata": {},
     "outputs": [],
     "prompt_number": 22
    },
    {
     "cell_type": "code",
     "collapsed": false,
     "input": [
      "'''f, ax = plt.subplots(1,2, figsize = (14, 5))\n",
      "\n",
      "\n",
      "x, y, z = zip(*bardata)\n",
      "\n",
      "ax[0].bar(x, y)\n",
      "ax[0].set_xticklabels(x, rotation = 90)\n",
      "ax[0].set_ylabel('Fraction of users with location (and Q)', fontsize = 14)\n",
      "\n",
      "ax[1].bar(x, z)\n",
      "ax[1].set_xticklabels(x, rotation = 90)\n",
      "ax[1].set_ylabel('User count with Q', fontsize = 14)\n",
      "\n",
      "\n",
      "plt.tight_layout()\n",
      "plt.show()\n",
      "'''"
     ],
     "language": "python",
     "metadata": {},
     "outputs": [
      {
       "metadata": {},
       "output_type": "pyout",
       "prompt_number": 23,
       "text": [
        "\"f, ax = plt.subplots(1,2, figsize = (14, 5))\\n\\n\\nx, y, z = zip(*bardata)\\n\\nax[0].bar(x, y)\\nax[0].set_xticklabels(x, rotation = 90)\\nax[0].set_ylabel('Fraction of users with location (and Q)', fontsize = 14)\\n\\nax[1].bar(x, z)\\nax[1].set_xticklabels(x, rotation = 90)\\nax[1].set_ylabel('User count with Q', fontsize = 14)\\n\\n\\nplt.tight_layout()\\nplt.show()\\n\""
       ]
      }
     ],
     "prompt_number": 23
    },
    {
     "cell_type": "code",
     "collapsed": false,
     "input": [
      "folder = 'FinalLocationrFiles/'\n",
      "if not os.path.exists(folder):\n",
      "    os.makedirs(folder)\n",
      "\n",
      "for ind, (key, df) in enumerate(df_locations_Q.items()):\n",
      "\n",
      "    fname = folder + key + '_location_data.csv'\n",
      "    df.to_csv(fname, sep = '\\t')"
     ],
     "language": "python",
     "metadata": {},
     "outputs": [],
     "prompt_number": 24
    },
    {
     "cell_type": "code",
     "collapsed": false,
     "input": [],
     "language": "python",
     "metadata": {},
     "outputs": [],
     "prompt_number": 24
    },
    {
     "cell_type": "code",
     "collapsed": false,
     "input": [],
     "language": "python",
     "metadata": {},
     "outputs": []
    }
   ],
   "metadata": {}
  }
 ]
}