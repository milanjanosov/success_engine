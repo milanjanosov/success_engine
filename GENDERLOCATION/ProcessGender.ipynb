{
 "metadata": {
  "kernelspec": {
   "display_name": "Python 2",
   "language": "python",
   "name": "python2"
  },
  "language_info": {
   "codemirror_mode": {
    "name": "ipython",
    "version": 2
   },
   "file_extension": ".py",
   "mimetype": "text/x-python",
   "name": "python",
   "nbconvert_exporter": "python",
   "pygments_lexer": "ipython2",
   "version": "2.7.12"
  },
  "name": "",
  "signature": "sha256:d3ff0eda1ccb6c04a39447aea1334595b0611cae913304af48533238006186fe"
 },
 "nbformat": 3,
 "nbformat_minor": 0,
 "worksheets": [
  {
   "cells": [
    {
     "cell_type": "markdown",
     "metadata": {},
     "source": [
      "\n"
     ]
    },
    {
     "cell_type": "code",
     "collapsed": false,
     "input": [
      "import pandas as pd\n",
      "from collections import Counter\n",
      "import numpy as np\n",
      "import matplotlib.pyplot as plt\n",
      "import os"
     ],
     "language": "python",
     "metadata": {},
     "outputs": [],
     "prompt_number": 9
    },
    {
     "cell_type": "heading",
     "level": 1,
     "metadata": {},
     "source": [
      "IMDb - Gender"
     ]
    },
    {
     "cell_type": "code",
     "collapsed": false,
     "input": [
      "df_imdb = pd.DataFrame.from_csv('IMDb/names_genders_guesser.dat', sep = '\\t')"
     ],
     "language": "python",
     "metadata": {},
     "outputs": [
      {
       "output_type": "stream",
       "stream": "stderr",
       "text": [
        "-c:1: FutureWarning: from_csv is deprecated. Please use read_csv(...) instead. Note that some of the default arguments are different, so please refer to the documentation for from_csv when changing your function calls\n"
       ]
      }
     ],
     "prompt_number": 2
    },
    {
     "cell_type": "code",
     "collapsed": false,
     "input": [
      "for gender in list(set(df_imdb['gender'])):\n",
      "    print gender, '\\t\\t', round(100*len(df_imdb[df_imdb.gender == gender]) /float(len(df_imdb)),3),'%'"
     ],
     "language": "python",
     "metadata": {},
     "outputs": [
      {
       "output_type": "stream",
       "stream": "stdout",
       "text": [
        "mostly_female \t\t1.648 %\n",
        "unknown \t\t9.888 %\n",
        "mostly_male \t\t3.687 %\n",
        "andy \t\t1.033 %\n",
        "female \t\t15.947 %\n",
        "male \t\t67.797 %\n"
       ]
      }
     ],
     "prompt_number": 3
    },
    {
     "cell_type": "code",
     "collapsed": false,
     "input": [
      "rootfolder   = '../QMODELNEW/pQData/'\n",
      "moviecareers = ['director', 'art_director', 'composer', 'writer', 'producer']\n",
      "\n",
      "fields_ids = {}\n",
      "\n",
      "for m in moviecareers:\n",
      "    fields_ids[m] = set()\n",
      "    for line in open(rootfolder + '/Q_distribution_' + m + '-10_0.dat'):\n",
      "        imdbid, Q,= line.strip().split('\\t')\n",
      "        fields_ids[m].add(imdbid)\n",
      "        \n",
      "fields_ids.keys()  "
     ],
     "language": "python",
     "metadata": {},
     "outputs": [
      {
       "metadata": {},
       "output_type": "pyout",
       "prompt_number": 10,
       "text": [
        "['director', 'producer', 'writer', 'composer', 'art_director']"
       ]
      }
     ],
     "prompt_number": 10
    },
    {
     "cell_type": "code",
     "collapsed": false,
     "input": [
      "imdb_genders_merged = df_imdb.to_dict()['gender']\n",
      "df_imdb.head()"
     ],
     "language": "python",
     "metadata": {},
     "outputs": [
      {
       "html": [
        "<div style=\"max-width:1500px;overflow:auto;\">\n",
        "<style scoped>\n",
        "    .dataframe tbody tr th:only-of-type {\n",
        "        vertical-align: middle;\n",
        "    }\n",
        "\n",
        "    .dataframe tbody tr th {\n",
        "        vertical-align: top;\n",
        "    }\n",
        "\n",
        "    .dataframe thead th {\n",
        "        text-align: right;\n",
        "    }\n",
        "</style>\n",
        "<table border=\"1\" class=\"dataframe\">\n",
        "  <thead>\n",
        "    <tr style=\"text-align: right;\">\n",
        "      <th></th>\n",
        "      <th>name</th>\n",
        "      <th>gender</th>\n",
        "    </tr>\n",
        "    <tr>\n",
        "      <th>id</th>\n",
        "      <th></th>\n",
        "      <th></th>\n",
        "    </tr>\n",
        "  </thead>\n",
        "  <tbody>\n",
        "    <tr>\n",
        "      <th>nm0703200</th>\n",
        "      <td>Raymond Queneau</td>\n",
        "      <td>male</td>\n",
        "    </tr>\n",
        "    <tr>\n",
        "      <th>nm3595195</th>\n",
        "      <td>Jessica Rosselet</td>\n",
        "      <td>female</td>\n",
        "    </tr>\n",
        "    <tr>\n",
        "      <th>nm0582797</th>\n",
        "      <td>Jens Meurer</td>\n",
        "      <td>male</td>\n",
        "    </tr>\n",
        "    <tr>\n",
        "      <th>nm0188992</th>\n",
        "      <td>George E. Crosby</td>\n",
        "      <td>male</td>\n",
        "    </tr>\n",
        "    <tr>\n",
        "      <th>nm0385725</th>\n",
        "      <td>Timothy Hines</td>\n",
        "      <td>male</td>\n",
        "    </tr>\n",
        "  </tbody>\n",
        "</table>\n",
        "</div>"
       ],
       "metadata": {},
       "output_type": "pyout",
       "prompt_number": 11,
       "text": [
        "                       name  gender\n",
        "id                                 \n",
        "nm0703200   Raymond Queneau    male\n",
        "nm3595195  Jessica Rosselet  female\n",
        "nm0582797       Jens Meurer    male\n",
        "nm0188992  George E. Crosby    male\n",
        "nm0385725     Timothy Hines    male"
       ]
      }
     ],
     "prompt_number": 11
    },
    {
     "cell_type": "code",
     "collapsed": false,
     "input": [
      "df_imdb_list = {}\n",
      "\n",
      "for field, lista in fields_ids.items():\n",
      "    df_imdb_list[field] = df_imdb[df_imdb.index.isin(lista)]\n",
      "    \n",
      "for f, df in df_imdb_list.items():\n",
      "    print f, df.head()\n",
      "    \n"
     ],
     "language": "python",
     "metadata": {},
     "outputs": [
      {
       "output_type": "stream",
       "stream": "stdout",
       "text": [
        "director                             name   gender\n",
        "id                                       \n",
        "nm0648937          Ngozi Onwurah  unknown\n",
        "nm0501326          Hannu Leminen     male\n",
        "nm0367187  Yiannis Hartomatzidis  unknown\n",
        "nm0885864    Darrell Van Citters     male\n",
        "nm0545273             Alex March     male\n",
        "art_director                                     name   gender\n",
        "id                                               \n",
        "nm0501326                  Hannu Leminen     male\n",
        "nm1238291             Sudhakar Manjrekar  unknown\n",
        "nm0217836                Fr\u00e9d\u00e9ric Delrue     male\n",
        "nm2115035  Ramalingeswararao Kondapaneni  unknown\n",
        "nm1513761                 Adrian Curelea     male\n",
        "writer                       name gender\n",
        "id                               \n",
        "nm0703200  Raymond Queneau   male\n",
        "nm0211315   Richard De Roy   male\n",
        "nm0501326    Hannu Leminen   male\n",
        "nm0518353  Carlos Lombardi   male\n",
        "nm0695977     Jose Prendes   male\n",
        "composer                       name       gender\n",
        "id                                     \n",
        "nm1362320       Tom Disher         male\n",
        "nm0242739         Rex Dunn         male\n",
        "nm1647614     Chris Tilton  mostly_male\n",
        "nm0557579  Alejandro Mass\u00f3         male\n",
        "nm1015867     Lyle Workman         male\n",
        "producer                        name   gender\n",
        "id                                  \n",
        "nm3595195  Jessica Rosselet   female\n",
        "nm0582797       Jens Meurer     male\n",
        "nm4374520   Arnaud Bertrand     male\n",
        "nm0705476     Rhoades Rader  unknown\n",
        "nm0576118  Elizabeth Meeker   female\n"
       ]
      }
     ],
     "prompt_number": 12
    },
    {
     "cell_type": "code",
     "collapsed": false,
     "input": [
      "movies_genders = {}\n",
      "for field, df in df_imdb_list.items(): \n",
      "    movies_genders[field] = df.to_dict()['gender']\n",
      "    \n",
      "#movies_genders['director']"
     ],
     "language": "python",
     "metadata": {},
     "outputs": [],
     "prompt_number": 14
    },
    {
     "cell_type": "heading",
     "level": 1,
     "metadata": {},
     "source": [
      "Music - Gender"
     ]
    },
    {
     "cell_type": "code",
     "collapsed": false,
     "input": [
      "classical = {}\n",
      "for line in open('Music/artist_ids_discogs_classical.dat'):\n",
      "    idd, name = line.strip().split('\\t')\n",
      "    classical[name] = str(idd)\n",
      "    \n",
      "sorted(classical.values())[0:10]"
     ],
     "language": "python",
     "metadata": {},
     "outputs": [
      {
       "metadata": {},
       "output_type": "pyout",
       "prompt_number": 15,
       "text": [
        "['1000045',\n",
        " '1000049',\n",
        " '1000067',\n",
        " '1000114',\n",
        " '1000263',\n",
        " '1000280',\n",
        " '1000280',\n",
        " '1000571',\n",
        " '1000571',\n",
        " '1000583']"
       ]
      }
     ],
     "prompt_number": 15
    },
    {
     "cell_type": "code",
     "collapsed": false,
     "input": [
      "jazz = {}\n",
      "for line in open('Music/artist_ids_discogs_jazz.dat'):\n",
      "    idd, name = line.strip().split('\\t')\n",
      "    jazz[name] = str(idd)\n",
      "    \n",
      "sorted(jazz.values())[0:10]"
     ],
     "language": "python",
     "metadata": {},
     "outputs": [
      {
       "metadata": {},
       "output_type": "pyout",
       "prompt_number": 16,
       "text": [
        "['1000045',\n",
        " '1000117',\n",
        " '1000340',\n",
        " '1001094',\n",
        " '1001117',\n",
        " '1001122',\n",
        " '1001122',\n",
        " '1001124',\n",
        " '1001126',\n",
        " '1001152']"
       ]
      }
     ],
     "prompt_number": 16
    },
    {
     "cell_type": "code",
     "collapsed": false,
     "input": [
      "hiphop = {}\n",
      "for line in open('Music/artist_ids_discogs_hiphop.dat'):\n",
      "    idd, name = line.strip().split('\\t')\n",
      "    hiphop[name] = str(idd)\n",
      "    \n",
      "sorted(hiphop.values())[0:10]"
     ],
     "language": "python",
     "metadata": {},
     "outputs": [
      {
       "metadata": {},
       "output_type": "pyout",
       "prompt_number": 17,
       "text": [
        "['100014',\n",
        " '100014',\n",
        " '1000183',\n",
        " '1000230',\n",
        " '100031',\n",
        " '100039',\n",
        " '1000503',\n",
        " '100100',\n",
        " '1001276',\n",
        " '1001294']"
       ]
      }
     ],
     "prompt_number": 17
    },
    {
     "cell_type": "code",
     "collapsed": false,
     "input": [
      "funk = {}\n",
      "for line in open('Music/artist_ids_discogs_funk.dat'):\n",
      "    idd, name = line.strip().split('\\t')\n",
      "    funk[name] = str(idd)\n",
      "    \n",
      "sorted(funk.values())[0:10]"
     ],
     "language": "python",
     "metadata": {},
     "outputs": [
      {
       "metadata": {},
       "output_type": "pyout",
       "prompt_number": 18,
       "text": [
        "['100014',\n",
        " '100031',\n",
        " '100037',\n",
        " '100039',\n",
        " '1000507',\n",
        " '1000529',\n",
        " '1000853',\n",
        " '1000957',\n",
        " '1001007',\n",
        " '1001049']"
       ]
      }
     ],
     "prompt_number": 18
    },
    {
     "cell_type": "code",
     "collapsed": false,
     "input": [
      "folk = {}\n",
      "for line in open('Music/artist_ids_discogs_folk.dat'):\n",
      "    idd, name = line.strip().split('\\t')\n",
      "    folk[name] = str(idd)\n",
      "    \n",
      "sorted(folk.values())[0:10]    "
     ],
     "language": "python",
     "metadata": {},
     "outputs": [
      {
       "metadata": {},
       "output_type": "pyout",
       "prompt_number": 19,
       "text": [
        "['1000049',\n",
        " '1000117',\n",
        " '1000134',\n",
        " '1000136',\n",
        " '1000136',\n",
        " '1000137',\n",
        " '1000139',\n",
        " '1000230',\n",
        " '1000263',\n",
        " '1000285']"
       ]
      }
     ],
     "prompt_number": 19
    },
    {
     "cell_type": "code",
     "collapsed": false,
     "input": [
      "rock= {}\n",
      "for line in open('Music/artist_ids_discogs_rock.dat'):\n",
      "    if len(line.strip().split('\\t')) == 2:\n",
      "        idd, name = line.strip().split('\\t')\n",
      "        rock[name] = str(idd)\n",
      "        \n",
      "sorted(rock.values())[0:10]\n",
      "\n",
      "\n",
      "\n"
     ],
     "language": "python",
     "metadata": {},
     "outputs": [
      {
       "metadata": {},
       "output_type": "pyout",
       "prompt_number": 20,
       "text": [
        "['1000',\n",
        " '1000149',\n",
        " '1000180',\n",
        " '1000196',\n",
        " '1000207',\n",
        " '1000220',\n",
        " '1000262',\n",
        " '1000263',\n",
        " '1000265',\n",
        " '1000267']"
       ]
      }
     ],
     "prompt_number": 20
    },
    {
     "cell_type": "code",
     "collapsed": false,
     "input": [
      "genres    = ['electro', 'rock', 'pop', 'jazz', 'classical', 'funk', 'folk', 'hiphop']\n",
      "outfolder = 'MusicGenders/'\n",
      "\n",
      "genres_gendres  = {}\n",
      "all_genres_data = []\n",
      "\n",
      "for genre in genres: \n",
      "    \n",
      "    df = pd.DataFrame.from_csv('Music/' + outfolder + 'artists_genders_' + genre + '.dat', sep = '\\t', header = None)\n",
      "    df = df.rename(columns = {1 : 'name', 2 : 'gender'})\n",
      "    df.index.name = 'id'\n",
      "    genres_gendres[genre] = df\n",
      "    all_genres_data.append(df)\n",
      "\n",
      "    print 'GENRE: ', genre\n"
     ],
     "language": "python",
     "metadata": {},
     "outputs": [
      {
       "output_type": "stream",
       "stream": "stdout",
       "text": [
        "GENRE:  electro\n",
        "GENRE: "
       ]
      },
      {
       "output_type": "stream",
       "stream": "stdout",
       "text": [
        " rock\n",
        "GENRE: "
       ]
      },
      {
       "output_type": "stream",
       "stream": "stdout",
       "text": [
        " pop\n",
        "GENRE: "
       ]
      },
      {
       "output_type": "stream",
       "stream": "stdout",
       "text": [
        " jazz\n",
        "GENRE:  classical\n",
        "GENRE: "
       ]
      },
      {
       "output_type": "stream",
       "stream": "stdout",
       "text": [
        " funk\n",
        "GENRE: "
       ]
      },
      {
       "output_type": "stream",
       "stream": "stdout",
       "text": [
        " folk\n",
        "GENRE: "
       ]
      },
      {
       "output_type": "stream",
       "stream": "stdout",
       "text": [
        " hiphop\n"
       ]
      },
      {
       "output_type": "stream",
       "stream": "stderr",
       "text": [
        "-c:9: FutureWarning: from_csv is deprecated. Please use read_csv(...) instead. Note that some of the default arguments are different, so please refer to the documentation for from_csv when changing your function calls\n"
       ]
      }
     ],
     "prompt_number": 21
    },
    {
     "cell_type": "code",
     "collapsed": false,
     "input": [],
     "language": "python",
     "metadata": {},
     "outputs": [],
     "prompt_number": null
    },
    {
     "cell_type": "code",
     "collapsed": false,
     "input": [],
     "language": "python",
     "metadata": {},
     "outputs": [],
     "prompt_number": null
    },
    {
     "cell_type": "code",
     "collapsed": false,
     "input": [
      "all_genres_data_df = pd.concat(all_genres_data, axis=0)    "
     ],
     "language": "python",
     "metadata": {},
     "outputs": [],
     "prompt_number": 23
    },
    {
     "cell_type": "code",
     "collapsed": false,
     "input": [
      "all_genres_data_df.head()"
     ],
     "language": "python",
     "metadata": {},
     "outputs": [
      {
       "html": [
        "<div style=\"max-width:1500px;overflow:auto;\">\n",
        "<style scoped>\n",
        "    .dataframe tbody tr th:only-of-type {\n",
        "        vertical-align: middle;\n",
        "    }\n",
        "\n",
        "    .dataframe tbody tr th {\n",
        "        vertical-align: top;\n",
        "    }\n",
        "\n",
        "    .dataframe thead th {\n",
        "        text-align: right;\n",
        "    }\n",
        "</style>\n",
        "<table border=\"1\" class=\"dataframe\">\n",
        "  <thead>\n",
        "    <tr style=\"text-align: right;\">\n",
        "      <th></th>\n",
        "      <th>name</th>\n",
        "      <th>gender</th>\n",
        "    </tr>\n",
        "    <tr>\n",
        "      <th>id</th>\n",
        "      <th></th>\n",
        "      <th></th>\n",
        "    </tr>\n",
        "  </thead>\n",
        "  <tbody>\n",
        "    <tr>\n",
        "      <th>1253006</th>\n",
        "      <td>Adam Shudoh</td>\n",
        "      <td>male</td>\n",
        "    </tr>\n",
        "    <tr>\n",
        "      <th>671265</th>\n",
        "      <td>The Slasher Film Festival Strategy</td>\n",
        "      <td>mostly_female</td>\n",
        "    </tr>\n",
        "    <tr>\n",
        "      <th>565172</th>\n",
        "      <td>Fraction</td>\n",
        "      <td>male</td>\n",
        "    </tr>\n",
        "    <tr>\n",
        "      <th>4998082</th>\n",
        "      <td>Skupina K. Witza</td>\n",
        "      <td>unknown</td>\n",
        "    </tr>\n",
        "    <tr>\n",
        "      <th>349419</th>\n",
        "      <td>Soundswarm</td>\n",
        "      <td>male</td>\n",
        "    </tr>\n",
        "  </tbody>\n",
        "</table>\n",
        "</div>"
       ],
       "metadata": {},
       "output_type": "pyout",
       "prompt_number": 24,
       "text": [
        "                                       name         gender\n",
        "id                                                        \n",
        "1253006                         Adam Shudoh           male\n",
        "671265   The Slasher Film Festival Strategy  mostly_female\n",
        "565172                            Fraction            male\n",
        "4998082                    Skupina K. Witza        unknown\n",
        "349419                           Soundswarm           male"
       ]
      }
     ],
     "prompt_number": 24
    },
    {
     "cell_type": "code",
     "collapsed": false,
     "input": [
      "for gender in list(set(all_genres_data_df['gender'])):\n",
      "    print gender, '\\t', round(100*len(all_genres_data_df[all_genres_data_df.gender == gender]) /float(len(all_genres_data_df)),3),'%'\n"
     ],
     "language": "python",
     "metadata": {},
     "outputs": [
      {
       "output_type": "stream",
       "stream": "stdout",
       "text": [
        "mostly_female \t9.049 %\n",
        "unknown \t41.779"
       ]
      },
      {
       "output_type": "stream",
       "stream": "stdout",
       "text": [
        " %\n",
        "mostly_male \t2.151 %\n",
        "andy \t2.43"
       ]
      },
      {
       "output_type": "stream",
       "stream": "stdout",
       "text": [
        " %\n",
        "female \t10.014 %\n",
        "male \t34.577"
       ]
      },
      {
       "output_type": "stream",
       "stream": "stdout",
       "text": [
        " %\n"
       ]
      }
     ],
     "prompt_number": 25
    },
    {
     "cell_type": "code",
     "collapsed": false,
     "input": [
      "music_genders = {}\n",
      "for genre in genres: \n",
      "    music_genders[genre] = genres_gendres[genre].to_dict()['gender']\n",
      "    \n",
      "music_genders.keys()\n"
     ],
     "language": "python",
     "metadata": {},
     "outputs": [
      {
       "metadata": {},
       "output_type": "pyout",
       "prompt_number": 28,
       "text": [
        "['classical', 'jazz', 'pop', 'hiphop', 'folk', 'rock', 'electro', 'funk']"
       ]
      }
     ],
     "prompt_number": 28
    },
    {
     "cell_type": "code",
     "collapsed": false,
     "input": [
      "music_ids_names = {}\n",
      "for genre in genres: \n",
      "    music_ids_names[genre] = genres_gendres['classical'].to_dict()['name']"
     ],
     "language": "python",
     "metadata": {},
     "outputs": [],
     "prompt_number": 29
    },
    {
     "cell_type": "code",
     "collapsed": false,
     "input": [
      "music_names_ids = {}\n",
      "for genre in genres:\n",
      "    if 'jazz' in genre:\n",
      "        music_names_ids[genre] =  {v: k for k, v in music_ids_names[genre].iteritems()}\n",
      "    \n",
      "#music_names_ids"
     ],
     "language": "python",
     "metadata": {},
     "outputs": [],
     "prompt_number": 30
    },
    {
     "cell_type": "heading",
     "level": 1,
     "metadata": {},
     "source": [
      "BOOKS GENDER"
     ]
    },
    {
     "cell_type": "code",
     "collapsed": false,
     "input": [
      "df_book = pd.DataFrame.from_csv('Goodreads/authors_genders.dat', sep = '\\t', header = None)\n",
      "df_book.index.name = 'id'\n",
      "df_book = df_book.rename(columns = {1 : 'name', 2 : \"gender\"})\n",
      "df_book.head()"
     ],
     "language": "python",
     "metadata": {},
     "outputs": [
      {
       "html": [
        "<div style=\"max-width:1500px;overflow:auto;\">\n",
        "<style scoped>\n",
        "    .dataframe tbody tr th:only-of-type {\n",
        "        vertical-align: middle;\n",
        "    }\n",
        "\n",
        "    .dataframe tbody tr th {\n",
        "        vertical-align: top;\n",
        "    }\n",
        "\n",
        "    .dataframe thead th {\n",
        "        text-align: right;\n",
        "    }\n",
        "</style>\n",
        "<table border=\"1\" class=\"dataframe\">\n",
        "  <thead>\n",
        "    <tr style=\"text-align: right;\">\n",
        "      <th></th>\n",
        "      <th>name</th>\n",
        "      <th>gender</th>\n",
        "    </tr>\n",
        "    <tr>\n",
        "      <th>id</th>\n",
        "      <th></th>\n",
        "      <th></th>\n",
        "    </tr>\n",
        "  </thead>\n",
        "  <tbody>\n",
        "    <tr>\n",
        "      <th>10262</th>\n",
        "      <td>Barry L\u00f3pez</td>\n",
        "      <td>male</td>\n",
        "    </tr>\n",
        "    <tr>\n",
        "      <th>1980</th>\n",
        "      <td>Jane Alison</td>\n",
        "      <td>female</td>\n",
        "    </tr>\n",
        "    <tr>\n",
        "      <th>23570</th>\n",
        "      <td>John L. Smith</td>\n",
        "      <td>male</td>\n",
        "    </tr>\n",
        "    <tr>\n",
        "      <th>24892</th>\n",
        "      <td>Andrew Sean Greer</td>\n",
        "      <td>male</td>\n",
        "    </tr>\n",
        "    <tr>\n",
        "      <th>25076</th>\n",
        "      <td>William D. Hitt</td>\n",
        "      <td>male</td>\n",
        "    </tr>\n",
        "  </tbody>\n",
        "</table>\n",
        "</div>"
       ],
       "metadata": {},
       "output_type": "pyout",
       "prompt_number": 31,
       "text": [
        "                    name  gender\n",
        "id                              \n",
        "10262        Barry L\u00f3pez    male\n",
        "1980         Jane Alison  female\n",
        "23570      John L. Smith    male\n",
        "24892  Andrew Sean Greer    male\n",
        "25076    William D. Hitt    male"
       ]
      }
     ],
     "prompt_number": 31
    },
    {
     "cell_type": "code",
     "collapsed": false,
     "input": [
      "book_genders = df_book.to_dict()['gender']"
     ],
     "language": "python",
     "metadata": {},
     "outputs": [],
     "prompt_number": 74
    },
    {
     "cell_type": "heading",
     "level": 1,
     "metadata": {},
     "source": [
      "MERGE GENDER"
     ]
    },
    {
     "cell_type": "code",
     "collapsed": false,
     "input": [
      "mergedGenders = {}\n",
      "\n",
      "#for movies, lists in imdb_genders.items():\n",
      "#    mergedGenders[movies] = lists\n",
      "\n",
      "for genre, lists in music_genders.items():\n",
      "    mergedGenders[genre] = lists\n",
      "\n",
      "    \n",
      "for movie, lists in movies_genders.items():\n",
      "    mergedGenders[movie] = lists    \n",
      "\n",
      "    \n",
      "    \n",
      "mergedGenders['authors'] = book_genders\n",
      "    \n",
      "for k, v in mergedGenders.items():\n",
      "    print k, type(v.keys()[0])\n",
      "mergedGenders.keys()  "
     ],
     "language": "python",
     "metadata": {},
     "outputs": [
      {
       "output_type": "stream",
       "stream": "stdout",
       "text": [
        "writer <type 'str'>\n",
        "producer <type 'str'>\n",
        "classical <type 'int'>\n",
        "authors <type 'int'>\n",
        "jazz <type 'int'>\n",
        "pop <type 'int'>\n",
        "director <type 'str'>\n",
        "hiphop <type 'int'>\n",
        "funk <type 'int'>\n",
        "composer <type 'str'>\n",
        "rock <type 'int'>\n",
        "art_director <type 'str'>\n",
        "electro <type 'str'>\n",
        "folk <type 'int'>\n"
       ]
      },
      {
       "metadata": {},
       "output_type": "pyout",
       "prompt_number": 75,
       "text": [
        "['writer',\n",
        " 'producer',\n",
        " 'classical',\n",
        " 'authors',\n",
        " 'jazz',\n",
        " 'pop',\n",
        " 'director',\n",
        " 'hiphop',\n",
        " 'funk',\n",
        " 'composer',\n",
        " 'rock',\n",
        " 'art_director',\n",
        " 'electro',\n",
        " 'folk']"
       ]
      }
     ],
     "prompt_number": 75
    },
    {
     "cell_type": "heading",
     "level": 1,
     "metadata": {},
     "source": [
      "Read Qs"
     ]
    },
    {
     "cell_type": "code",
     "collapsed": false,
     "input": [
      "rootfolder  = '../QMODELNEW/pQData'\n",
      "genres      = ['electro-80', 'rock-80', 'pop-80', 'jazz-80', 'classical-80', 'funk-80', 'folk-80', 'hiphop-80']\n",
      "\n",
      "musicQs = {}\n",
      "\n",
      "for m in genres:\n",
      "    musicQs[m] = {}                 \n",
      "    for line in open(rootfolder + '/Q_distribution_' + m + '_0.dat'):\n",
      "        if len(line.strip().split('\\t')) == 2:\n",
      "            imdbid, Q = line.strip().split('\\t')\n",
      "            \n",
      "            if 'classical' in m:\n",
      "                try:\n",
      "                    imdbid = classical[imdbid]\n",
      "                    musicQs[m][imdbid] = float(Q)\n",
      "                except:\n",
      "                    pass\n",
      "            \n",
      "            elif 'jazz' in m:\n",
      "                try:\n",
      "                    imdbid = jazz[imdbid]\n",
      "                    musicQs[m][imdbid] = float(Q)\n",
      "                except:\n",
      "                    pass\n",
      "                \n",
      "            elif 'folk' in m:\n",
      "                try:\n",
      "                    imdbid = folk[imdbid]\n",
      "                    musicQs[m][imdbid] = float(Q)\n",
      "                except:\n",
      "                    pass \n",
      "                \n",
      "            elif 'funk' in m:\n",
      "                try:\n",
      "                    imdbid = funk[imdbid]\n",
      "                    musicQs[m][imdbid] = float(Q)\n",
      "                except:\n",
      "                    pass   \n",
      "        \n",
      "            elif 'hiphop' in m:\n",
      "                try:\n",
      "                    imdbid = hiphop[imdbid]\n",
      "                    musicQs[m][imdbid] = float(Q)\n",
      "                except:\n",
      "                    pass                   \n",
      "            \n",
      "            \n",
      "            elif 'rock' in m:\n",
      "                try:\n",
      "                    imdbid = rock[imdbid]\n",
      "                    musicQs[m][imdbid] = float(Q)\n",
      "                except:\n",
      "                    pass                  \n",
      "            \n",
      "                \n",
      "            else:\n",
      "                musicQs[m][imdbid] = float(Q)\n",
      "                \n",
      "  "
     ],
     "language": "python",
     "metadata": {},
     "outputs": [],
     "prompt_number": 76
    },
    {
     "cell_type": "code",
     "collapsed": false,
     "input": [],
     "language": "python",
     "metadata": {},
     "outputs": [],
     "prompt_number": 76
    },
    {
     "cell_type": "code",
     "collapsed": false,
     "input": [
      "rootfolder  = '../QMODELNEW/pQData'\n",
      "moviecareers = ['director-10', 'art_director-20', 'composer-10', 'writer-10', 'producer-10']\n",
      "\n",
      "\n",
      "movieQs = {}\n",
      "\n",
      "for m in moviecareers:\n",
      "    movieQs[m] = {}\n",
      "    for line in open(rootfolder + '/Q_distribution_' + m + '_0.dat'):\n",
      "        imdbid, Q = line.strip().split('\\t')\n",
      "        movieQs[m][imdbid] = float(Q)\n",
      "        \n",
      "movieQs.keys()       "
     ],
     "language": "python",
     "metadata": {},
     "outputs": [
      {
       "metadata": {},
       "output_type": "pyout",
       "prompt_number": 77,
       "text": [
        "['director-10', 'producer-10', 'writer-10', 'art_director-20', 'composer-10']"
       ]
      }
     ],
     "prompt_number": 77
    },
    {
     "cell_type": "code",
     "collapsed": false,
     "input": [
      "booksQ = {}\n",
      "booksQ['authors-50'] = {}\n",
      "\n",
      "for line in open(rootfolder + '/Q_distribution_authors-50_0.dat'):\n",
      "        imdbid, Q = line.strip().split('\\t')\n",
      "        booksQ['authors-50'][imdbid] = float(Q)\n",
      "  \n"
     ],
     "language": "python",
     "metadata": {},
     "outputs": [],
     "prompt_number": 78
    },
    {
     "cell_type": "code",
     "collapsed": false,
     "input": [
      "mergedQs = {}\n",
      "\n",
      "for movies, lists in movieQs.items():\n",
      "    mergedQs[movies] = lists\n",
      "\n",
      "for genre, lists in musicQs.items():\n",
      "    mergedQs[genre] = lists\n",
      "    \n",
      "for authors, lists in booksQ.items():\n",
      "    print authors\n",
      "    mergedQs[authors] = lists\n",
      "\n"
     ],
     "language": "python",
     "metadata": {},
     "outputs": [
      {
       "output_type": "stream",
       "stream": "stdout",
       "text": [
        "authors-50\n"
       ]
      }
     ],
     "prompt_number": 79
    },
    {
     "cell_type": "code",
     "collapsed": false,
     "input": [
      "mergedQs.keys()"
     ],
     "language": "python",
     "metadata": {},
     "outputs": [
      {
       "metadata": {},
       "output_type": "pyout",
       "prompt_number": 80,
       "text": [
        "['director-10',\n",
        " 'electro-80',\n",
        " 'pop-80',\n",
        " 'composer-10',\n",
        " 'funk-80',\n",
        " 'classical-80',\n",
        " 'writer-10',\n",
        " 'producer-10',\n",
        " 'hiphop-80',\n",
        " 'folk-80',\n",
        " 'rock-80',\n",
        " 'authors-50',\n",
        " 'art_director-20',\n",
        " 'jazz-80']"
       ]
      }
     ],
     "prompt_number": 80
    },
    {
     "cell_type": "heading",
     "level": 1,
     "metadata": {},
     "source": [
      "MERGE GENDER AND Q"
     ]
    },
    {
     "cell_type": "code",
     "collapsed": false,
     "input": [
      "mergedQs_filtered = {}\n",
      "\n",
      "for key, value in mergedQs.items():\n",
      "    mergedQs_filtered[key.split('-')[0]] = value\n",
      "\n",
      "print mergedQs_filtered.keys()\n",
      "print mergedGenders.keys()"
     ],
     "language": "python",
     "metadata": {},
     "outputs": [
      {
       "output_type": "stream",
       "stream": "stdout",
       "text": [
        "['jazz', 'producer', 'classical', 'authors', 'writer', 'pop', 'director', 'hiphop', 'folk', 'composer', 'rock', 'art_director', 'electro', 'funk']\n",
        "['writer', 'producer', 'classical', 'authors', 'jazz', 'pop', 'director', 'hiphop', 'funk', 'composer', 'rock', 'art_director', 'electro', 'folk']\n"
       ]
      }
     ],
     "prompt_number": 81
    },
    {
     "cell_type": "code",
     "collapsed": false,
     "input": [
      "df_gender_Q = {}\n",
      "\n",
      "for field, lista in mergedQs_filtered.items():\n",
      "    df_Q = pd.DataFrame(lista.items())\n",
      "    df_Q.set_index(0, inplace=True)\n",
      "    df_Q.index.name = 'id'\n",
      "    df_Q = df_Q.rename(columns = {1 : 'Q'})\n",
      "    df_Q.index = df_Q.index.map(str)\n",
      " \n",
      "\n",
      "    df_G = pd.DataFrame(mergedGenders[field].items())\n",
      "    df_G.set_index(0, inplace=True)\n",
      "    df_G.index.name = 'id'\n",
      "    df_G.index = df_G.index.map(str)\n",
      "    df_G = df_G.rename(columns = {1 : 'gender'})\n",
      "\n",
      "    a = set(df_Q.index)\n",
      "    b = set(df_G.index)\n",
      "    \n",
      "    df_merged = df_G.join(df_Q)\n",
      "    df_merged = df_merged.dropna()\n",
      "    \n",
      "    df_gender_Q[field] = df_merged\n",
      "       \n",
      "\n",
      "    print field, len(df_merged)\n",
      "  \n",
      "\n",
      "\n",
      "len(df_gender_Q)"
     ],
     "language": "python",
     "metadata": {},
     "outputs": [
      {
       "output_type": "stream",
       "stream": "stdout",
       "text": [
        "jazz 3832\n",
        "producer"
       ]
      },
      {
       "output_type": "stream",
       "stream": "stdout",
       "text": [
        " 15843\n",
        "classical 2068\n",
        "authors"
       ]
      },
      {
       "output_type": "stream",
       "stream": "stdout",
       "text": [
        " 8070\n",
        "writer 9957\n",
        "pop"
       ]
      },
      {
       "output_type": "stream",
       "stream": "stdout",
       "text": [
        " 6656\n",
        "director"
       ]
      },
      {
       "output_type": "stream",
       "stream": "stdout",
       "text": [
        " 7161\n",
        "hiphop 2637\n",
        "folk"
       ]
      },
      {
       "output_type": "stream",
       "stream": "stdout",
       "text": [
        " 5962\n",
        "composer 4631\n",
        "rock"
       ]
      },
      {
       "output_type": "stream",
       "stream": "stdout",
       "text": [
        " 9854\n",
        "art_director 600\n",
        "electro"
       ]
      },
      {
       "output_type": "stream",
       "stream": "stdout",
       "text": [
        " 11086\n",
        "funk"
       ]
      },
      {
       "output_type": "stream",
       "stream": "stdout",
       "text": [
        " 3315\n"
       ]
      },
      {
       "metadata": {},
       "output_type": "pyout",
       "prompt_number": 84,
       "text": [
        "14"
       ]
      }
     ],
     "prompt_number": 84
    },
    {
     "cell_type": "code",
     "collapsed": false,
     "input": [
      "f, ax = plt.subplots(5, 3, figsize=(18, 20))\n",
      "\n",
      "indicies = [(i,j) for i in range(5) for j in range(3)]\n",
      "\n",
      "\n",
      "for ind, key in enumerate(df_gender_Q.keys()):\n",
      "\n",
      "    if 'authors' not in key:\n",
      "    \n",
      "        x, y = zip(*[(k, v) for k, v in dict(Counter(list(df_gender_Q[key]['gender']))).items()])\n",
      "        ax[indicies[ind]].bar(x,y)\n",
      "        ax[indicies[ind]].set_title(key)\n",
      "        \n",
      "    plt.tight_layout()\n",
      "    plt.savefig('genderdistr.png')\n"
     ],
     "language": "python",
     "metadata": {},
     "outputs": [],
     "prompt_number": 85
    },
    {
     "cell_type": "code",
     "collapsed": false,
     "input": [
      "folder = 'FinalGenderFiles/'\n",
      "if not os.path.exists(folder):\n",
      "    os.makedirs(folder)\n",
      "\n",
      "for ind, (key, df) in enumerate(df_gender_Q.items()):\n",
      "\n",
      "    fname = folder + key + '_gender_data.csv'\n",
      "    df.to_csv(fname, sep = '\\t')"
     ],
     "language": "python",
     "metadata": {},
     "outputs": [],
     "prompt_number": 86
    },
    {
     "cell_type": "code",
     "collapsed": false,
     "input": [],
     "language": "python",
     "metadata": {},
     "outputs": [],
     "prompt_number": null
    },
    {
     "cell_type": "code",
     "collapsed": false,
     "input": [],
     "language": "python",
     "metadata": {},
     "outputs": [],
     "prompt_number": null
    }
   ],
   "metadata": {}
  }
 ]
}