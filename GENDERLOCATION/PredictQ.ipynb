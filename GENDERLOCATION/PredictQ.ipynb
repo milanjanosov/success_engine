{
 "metadata": {
  "kernelspec": {
   "display_name": "Python 2",
   "language": "python",
   "name": "python2"
  },
  "language_info": {
   "codemirror_mode": {
    "name": "ipython",
    "version": 2
   },
   "file_extension": ".py",
   "mimetype": "text/x-python",
   "name": "python",
   "nbconvert_exporter": "python",
   "pygments_lexer": "ipython2",
   "version": "2.7.12"
  },
  "name": "",
  "signature": "sha256:55ff39a6c025917edbe06f14c0ed28d0b18ab74213b17bf7b6031845d90a1982"
 },
 "nbformat": 3,
 "nbformat_minor": 0,
 "worksheets": [
  {
   "cells": [
    {
     "cell_type": "code",
     "collapsed": false,
     "input": [
      "import pandas as pd\n",
      "import numpy as np\n",
      "import math\n",
      "import matplotlib.pyplot as plt\n",
      "import os"
     ],
     "language": "python",
     "metadata": {},
     "outputs": [],
     "prompt_number": 2
    },
    {
     "cell_type": "heading",
     "level": 1,
     "metadata": {},
     "source": [
      "Location"
     ]
    },
    {
     "cell_type": "code",
     "collapsed": false,
     "input": [
      "folder   = 'FinalLocationrFiles/'\n",
      "df_loc_Q = {}\n",
      "files    = os.listdir(folder)\n",
      "\n",
      "\n",
      "for fn in files:\n",
      "    \n",
      "  \n",
      "    field = fn.rsplit('_', 2)[0]\n",
      "    df    = pd.DataFrame.from_csv(folder + fn, sep = '\\t')\n",
      "\n",
      "    df = df.replace('uk' , 'united kingdom')\n",
      "    df = df.replace('south korea' , 'korea')\n",
      "    df = df.replace('hong kong' , 'china')\n",
      "    df = df.replace('czech republic' , 'czech rep.')\n",
      "    df = df.replace('usa' , 'united states')\n",
      "\n",
      "    df_loc_Q[field] = df\n",
      "  \n",
      "df_loc_Q.keys()"
     ],
     "language": "python",
     "metadata": {},
     "outputs": [
      {
       "metadata": {},
       "output_type": "pyout",
       "prompt_number": 65,
       "text": [
        "['jazz',\n",
        " 'classical',\n",
        " 'producer',\n",
        " 'rock',\n",
        " 'writer',\n",
        " 'pop',\n",
        " 'director',\n",
        " 'hiphop',\n",
        " 'funk',\n",
        " 'composer',\n",
        " 'authors',\n",
        " 'art_director',\n",
        " 'electro',\n",
        " 'folk']"
       ]
      }
     ],
     "prompt_number": 65
    },
    {
     "cell_type": "heading",
     "level": 1,
     "metadata": {},
     "source": [
      "Gender"
     ]
    },
    {
     "cell_type": "code",
     "collapsed": false,
     "input": [
      "folder      = 'FinalGenderFiles/'\n",
      "df_gender_Q = {}\n",
      "files       = os.listdir(folder)\n",
      "\n",
      "field_avg_Q = []\n",
      "field_std_Q = []\n",
      "field_len_Q = []\n",
      "\n",
      "for fn in files:\n",
      "\n",
      "    field = fn.split('_')[0]\n",
      "    df    = pd.DataFrame.from_csv(folder + fn, sep = '\\t', index_col = 'id')\n",
      "    df_gender_Q[field] = df\n",
      "    \n",
      "    \n",
      "df_gender_Q.keys()    "
     ],
     "language": "python",
     "metadata": {},
     "outputs": [
      {
       "metadata": {},
       "output_type": "pyout",
       "prompt_number": 63,
       "text": [
        "['jazz',\n",
        " 'art',\n",
        " 'producer',\n",
        " 'classical',\n",
        " 'rock',\n",
        " 'writer',\n",
        " 'pop',\n",
        " 'director',\n",
        " 'hiphop',\n",
        " 'folk',\n",
        " 'composer',\n",
        " 'authors',\n",
        " 'electro',\n",
        " 'funk']"
       ]
      }
     ],
     "prompt_number": 63
    },
    {
     "cell_type": "heading",
     "level": 1,
     "metadata": {},
     "source": [
      "Careerstats"
     ]
    },
    {
     "cell_type": "code",
     "collapsed": false,
     "input": [
      "folder     = 'CareerTimeStats/UsersTimeData/'\n",
      "files      = os.listdir(folder)\n",
      "career_dfs = {}\n",
      "\n",
      "for fn in files:\n",
      "    \n",
      "    field = fn.split('_')[0]\n",
      "    print field\n",
      "    \n",
      "    \n",
      "    \n",
      "    df    = pd.DataFrame.from_csv(folder + fn, sep = '\\t', header = None)\n",
      "    df.index.name = 'id'\n",
      "    df = df.rename(columns = { 1 : 'first year', 2 : 'total span', 3 : 'productivity'})\n",
      "    \n",
      "    career_dfs[field] = df\n",
      "    \n",
      "df.head()\n",
      "\n",
      "\n",
      "career_dfs.keys()"
     ],
     "language": "python",
     "metadata": {},
     "outputs": [
      {
       "output_type": "stream",
       "stream": "stdout",
       "text": [
        "jazz-80\n",
        "authors-50\n",
        "producer-10\n",
        "art\n",
        "rock-80\n",
        "funk-80"
       ]
      },
      {
       "output_type": "stream",
       "stream": "stdout",
       "text": [
        "\n",
        "writer-10\n",
        "hiphop-80\n",
        "pop-80\n",
        "director-10\n",
        "classical-80\n",
        "electro-80\n",
        "folk-80"
       ]
      },
      {
       "output_type": "stream",
       "stream": "stdout",
       "text": [
        "\n",
        "composer-10\n"
       ]
      },
      {
       "metadata": {},
       "output_type": "pyout",
       "prompt_number": 64,
       "text": [
        "['director-10',\n",
        " 'electro-80',\n",
        " 'art',\n",
        " 'composer-10',\n",
        " 'folk-80',\n",
        " 'classical-80',\n",
        " 'writer-10',\n",
        " 'producer-10',\n",
        " 'hiphop-80',\n",
        " 'funk-80',\n",
        " 'pop-80',\n",
        " 'rock-80',\n",
        " 'authors-50',\n",
        " 'jazz-80']"
       ]
      }
     ],
     "prompt_number": 64
    },
    {
     "cell_type": "heading",
     "level": 1,
     "metadata": {},
     "source": [
      "Merge"
     ]
    },
    {
     "cell_type": "code",
     "collapsed": false,
     "input": [
      "merged_dfs ={}\n",
      "\n",
      "for field, df in career_dfs.items():\n",
      "    \n",
      "    field =  field.rsplit('-', 1)[0]\n",
      "    \n",
      "  \n",
      "    df_g = df_gender_Q[field]\n",
      "    \n",
      "    print len(df), len(df_l), len(df_g)\n",
      "    \n",
      "    if 'art' == field:\n",
      "        field = 'art_director'\n",
      "    \n",
      "    df_l = df_loc_Q[field]\n",
      "\n",
      "    \n",
      "    df_feats = df_l.merge(df_g, left_index = True, right_index = True)\n",
      "    df_feats = df_feats.merge(df, left_index = True, right_index = True)\n",
      "    \n",
      "    df_feats = df_feats.rename(columns = {'Q_x' : 'Q'})\n",
      "    df_feats = df_feats.drop(columns = ['Q_y'])\n",
      "    \n",
      "    merged_dfs[field] = df_feats\n",
      "    \n",
      "\n",
      "print merged_dfs.keys()\n",
      "\n",
      "merged_dfs['art_director'].head()"
     ],
     "language": "python",
     "metadata": {},
     "outputs": [
      {
       "output_type": "stream",
       "stream": "stdout",
       "text": [
        "7389 1512 7161\n",
        "11086 5057 11086\n",
        "602 4687 600\n",
        "4638 276 4631\n",
        "5964 2216 5962\n",
        "2071 2242 2068\n",
        "9983 841 9957\n",
        "15925"
       ]
      },
      {
       "output_type": "stream",
       "stream": "stdout",
       "text": [
        " 6520 15843\n",
        "2638 4999 2637\n",
        "3316 794 3315\n",
        "6656 1272 6656\n",
        "9861 1471 9854\n",
        "8070 3181 8070\n",
        "3837 3086 3832\n",
        "['jazz', 'art_director', 'classical', 'authors', 'producer', 'writer', 'pop', 'director', 'hiphop', 'funk', 'composer', 'rock', 'electro', 'folk']"
       ]
      },
      {
       "output_type": "stream",
       "stream": "stdout",
       "text": [
        "\n"
       ]
      },
      {
       "html": [
        "<div style=\"max-width:1500px;overflow:auto;\">\n",
        "<style scoped>\n",
        "    .dataframe tbody tr th:only-of-type {\n",
        "        vertical-align: middle;\n",
        "    }\n",
        "\n",
        "    .dataframe tbody tr th {\n",
        "        vertical-align: top;\n",
        "    }\n",
        "\n",
        "    .dataframe thead th {\n",
        "        text-align: right;\n",
        "    }\n",
        "</style>\n",
        "<table border=\"1\" class=\"dataframe\">\n",
        "  <thead>\n",
        "    <tr style=\"text-align: right;\">\n",
        "      <th></th>\n",
        "      <th>location</th>\n",
        "      <th>Q</th>\n",
        "      <th>gender</th>\n",
        "      <th>first year</th>\n",
        "      <th>total span</th>\n",
        "      <th>productivity</th>\n",
        "    </tr>\n",
        "    <tr>\n",
        "      <th>id</th>\n",
        "      <th></th>\n",
        "      <th></th>\n",
        "      <th></th>\n",
        "      <th></th>\n",
        "      <th></th>\n",
        "      <th></th>\n",
        "    </tr>\n",
        "  </thead>\n",
        "  <tbody>\n",
        "    <tr>\n",
        "      <th>nm0501326</th>\n",
        "      <td>finland</td>\n",
        "      <td>19.350605</td>\n",
        "      <td>male</td>\n",
        "      <td>1938.0</td>\n",
        "      <td>26.0</td>\n",
        "      <td>29</td>\n",
        "    </tr>\n",
        "    <tr>\n",
        "      <th>nm0320465</th>\n",
        "      <td>italy</td>\n",
        "      <td>456.703084</td>\n",
        "      <td>male</td>\n",
        "      <td>1973.0</td>\n",
        "      <td>35.0</td>\n",
        "      <td>36</td>\n",
        "    </tr>\n",
        "    <tr>\n",
        "      <th>nm0658086</th>\n",
        "      <td>italy</td>\n",
        "      <td>37.336114</td>\n",
        "      <td>male</td>\n",
        "      <td>1932.0</td>\n",
        "      <td>42.0</td>\n",
        "      <td>203</td>\n",
        "    </tr>\n",
        "    <tr>\n",
        "      <th>nm0135560</th>\n",
        "      <td>united states</td>\n",
        "      <td>37.768902</td>\n",
        "      <td>unknown</td>\n",
        "      <td>1947.0</td>\n",
        "      <td>21.0</td>\n",
        "      <td>61</td>\n",
        "    </tr>\n",
        "    <tr>\n",
        "      <th>nm0888077</th>\n",
        "      <td>united states</td>\n",
        "      <td>10.023068</td>\n",
        "      <td>male</td>\n",
        "      <td>1958.0</td>\n",
        "      <td>23.0</td>\n",
        "      <td>32</td>\n",
        "    </tr>\n",
        "  </tbody>\n",
        "</table>\n",
        "</div>"
       ],
       "metadata": {},
       "output_type": "pyout",
       "prompt_number": 70,
       "text": [
        "                location           Q   gender  first year  total span  \\\n",
        "id                                                                      \n",
        "nm0501326        finland   19.350605     male      1938.0        26.0   \n",
        "nm0320465          italy  456.703084     male      1973.0        35.0   \n",
        "nm0658086          italy   37.336114     male      1932.0        42.0   \n",
        "nm0135560  united states   37.768902  unknown      1947.0        21.0   \n",
        "nm0888077  united states   10.023068     male      1958.0        23.0   \n",
        "\n",
        "           productivity  \n",
        "id                       \n",
        "nm0501326            29  \n",
        "nm0320465            36  \n",
        "nm0658086           203  \n",
        "nm0135560            61  \n",
        "nm0888077            32  "
       ]
      }
     ],
     "prompt_number": 70
    },
    {
     "cell_type": "code",
     "collapsed": false,
     "input": [],
     "language": "python",
     "metadata": {},
     "outputs": []
    }
   ],
   "metadata": {}
  }
 ]
}