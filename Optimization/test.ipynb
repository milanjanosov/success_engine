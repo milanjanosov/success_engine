{
 "metadata": {
  "name": "",
  "signature": "sha256:d5c902c23a8a10ff27f9b9ee01cb3aae733e7fc8cf8bbf2f0ce54842807a8e32"
 },
 "nbformat": 3,
 "nbformat_minor": 0,
 "worksheets": [
  {
   "cells": [
    {
     "cell_type": "code",
     "collapsed": false,
     "input": [
      "import numpy as np\n",
      "from scipy.stats import norm\n",
      "from scipy.optimize import minimize\n",
      "from scipy.stats import multivariate_normal as mnorm\n",
      "\n",
      "def estimation(obs,fun,init,method='Nelder-Mead'):\n",
      "    mle = lambda param: -np.sum(fun(*[obs,param])) ## negate since we will minimize\n",
      "    result = minimize(mle,init,method=method)\n",
      "    return result.x"
     ],
     "language": "python",
     "metadata": {},
     "outputs": [],
     "prompt_number": 2
    },
    {
     "cell_type": "code",
     "collapsed": false,
     "input": [
      "impacts = [float(line.strip()) for line in open('impacts.dat')]\n"
     ],
     "language": "python",
     "metadata": {},
     "outputs": [],
     "prompt_number": 68
    },
    {
     "cell_type": "code",
     "collapsed": false,
     "input": [
      "obs = np.random.normal(1,4,50000)\n",
      "ini = [0,1]\n",
      "print(estimation(obs,lambda ob,p:norm.logpdf(ob,p[0],p[1]),ini))"
     ],
     "language": "python",
     "metadata": {},
     "outputs": [
      {
       "output_type": "stream",
       "stream": "stdout",
       "text": [
        "[0.99459581 4.00666699]\n"
       ]
      }
     ],
     "prompt_number": 7
    },
    {
     "cell_type": "code",
     "collapsed": false,
     "input": [
      "mu  = [1,2,3]\n",
      "cov = [[2,-1, 0],[-1,2,-1],[0,-1,2]]\n",
      "\n",
      "cov= np.array(cov)\n",
      "\n",
      "\n",
      "obs_m = np.random.multivariate_normal(mu,cov,50000)\n",
      "\n",
      "\n",
      "print type(obs_m)\n",
      "\n",
      "ini_m = [1,2,3,  2,1,1, 1,3,1, 1,1.2,1]\n",
      "print(estimation(obs_m,lambda ob,p:mnorm.logpdf(ob,\n",
      "                                                                                    \n",
      "            [p[0], p[1], p[2]],\n",
      "            [[p[3], p[4], p[5]],\n",
      "             [p[6], p[7], p[8]],\n",
      "             [p[9], p[10],p[10]]\n",
      "            ]),\n",
      "            ini_m))\n"
     ],
     "language": "python",
     "metadata": {},
     "outputs": [
      {
       "output_type": "stream",
       "stream": "stdout",
       "text": [
        "<type 'numpy.ndarray'>\n",
        "[ 0.9954744   2.00035798  2.99335895  5.96536474 -3.45756581  1.08876278\n",
        " -5.9799536   8.01502484  7.42252686 -1.99224051  2.00820747 -0.95285746]"
       ]
      },
      {
       "output_type": "stream",
       "stream": "stdout",
       "text": [
        "\n"
       ]
      }
     ],
     "prompt_number": 72
    },
    {
     "cell_type": "code",
     "collapsed": false,
     "input": [
      "np.asarray(impacts)\n",
      "obs_m"
     ],
     "language": "python",
     "metadata": {},
     "outputs": [
      {
       "metadata": {},
       "output_type": "pyout",
       "prompt_number": 74,
       "text": [
        "array([[ 0.60621293,  2.40195627,  3.62740216],\n",
        "       [ 2.85622333,  0.55924289,  3.96096284],\n",
        "       [-1.27288644,  3.45642074,  2.62698236],\n",
        "       ...,\n",
        "       [ 2.03238545,  2.70146234,  1.68707174],\n",
        "       [ 0.86354791,  2.38311815,  3.14136987],\n",
        "       [ 0.6030299 ,  1.46020481,  3.20547785]])"
       ]
      }
     ],
     "prompt_number": 74
    },
    {
     "cell_type": "code",
     "collapsed": false,
     "input": [],
     "language": "python",
     "metadata": {},
     "outputs": []
    }
   ],
   "metadata": {}
  }
 ]
}