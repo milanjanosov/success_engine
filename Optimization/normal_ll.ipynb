{
 "metadata": {
  "name": "",
  "signature": "sha256:d3ed705c773088d390436e2b683096efb56560a02b97df3faa1bd78c9f87e001"
 },
 "nbformat": 3,
 "nbformat_minor": 0,
 "worksheets": [
  {
   "cells": [
    {
     "cell_type": "code",
     "collapsed": false,
     "input": [
      "import os\n",
      "import numpy as np\n",
      "import matplotlib.pyplot as plt\n",
      "import math\n",
      "from scipy.optimize import minimize\n",
      "import scipy.stats as stats\n",
      "%matplotlib inline  "
     ],
     "language": "python",
     "metadata": {},
     "outputs": [],
     "prompt_number": 1
    },
    {
     "cell_type": "code",
     "collapsed": false,
     "input": [
      "\n",
      "# this is how the likelihood function is defined\n",
      "def get_y_exp(mu_p, sum_c, mu_Q):\n",
      "    \n",
      "    return [mu_p * sum_c[i] + mu_Q for i in np.arange(0, len(sum_c))]\n",
      "    \n",
      "\n",
      "def logL(x, y, y_exp, sigma):\n",
      "\n",
      "    LogL  = 0\n",
      "    LogL += (len(x)/2 * np.log(2 * np.pi) + len(x)/2 * np.log(sigma ** 2) + 1 / (2 * sigma ** 2) * sum((y - y_exp) ** 2))\n",
      "\n",
      "    return LogL \n",
      "\n",
      "\n",
      "# the likelihood model takes the parameters, mu_p, mu_Q, and mu_N to optimize\n",
      "# and takes sum_c, sum_c2, constant lists, as args \n",
      "def lik(parameters, *args):\n",
      "\n",
      "    # list of input data\n",
      "    sum_c   = args[0][0]\n",
      "    sum_c2  = args[0][1]\n",
      "\n",
      "    # parameters to optimize\n",
      "    mu_p = parameters[0]\n",
      "    mu_Q = parameters[1]\n",
      "    mu_N = parameters[2]\n",
      "\n",
      "    # do the likelihood stuff for the linear regression\n",
      "    y_exp = get_y_exp(mu_p, sum_c, mu_Q)\n",
      "    L = logL(sum_c, sum_c2, y_exp, mu_N)\n",
      "\n",
      "    return L\n",
      "\n",
      "\n",
      "# this function just reads the data and calls the likelihood model\n",
      "# and prints & plots the result\n",
      "def optimize():\n",
      "\n",
      "\n",
      "    I = []\n",
      "    N = []\n",
      "    files = os.listdir('career_data')      \n",
      "    for filename in files:\n",
      "        c_i = [float(line.strip().split('\\t')[1]) for line in open('career_data/' + filename)]\n",
      "        N.append(len(c_i))\n",
      "        for c in c_i:   \n",
      "            I.append(c)\n",
      "\n",
      "\n",
      "    \n",
      "    # this is the minimizer\n",
      "    mu0    = 4\n",
      "    sigma0 = 2\n",
      "    \n",
      "    lik_model = minimize(lik, np.array([mu0, sigma0]), args=([sum_c, sum_c2, N] , ), method='TNC')\n",
      "\n",
      "    \n",
      "    # plot and print the results\n",
      "    #print lik_model\n",
      "    #plt.scatter(sum_c,sum_c2)\n",
      "    plt.yscale('log')\n",
      "    plt.hist(I)\n",
      "    #plt.plot(sum_c, lik_model['x'][0] * sum_c + lik_model['x'][1])\n",
      "    plt.show()\n",
      "\n",
      "    \n",
      "\n",
      "\n",
      "if __name__ == '__main__':         \n",
      "\n",
      "    # this does the whole optimization\n",
      "    optimize()"
     ],
     "language": "python",
     "metadata": {},
     "outputs": [
      {
       "metadata": {},
       "output_type": "display_data",
       "png": "[encoded data removed]",
       "text": [
        "<matplotlib.figure.Figure at 0x7efd4d9997d0>"
       ]
      }
     ],
     "prompt_number": 4
    },
    {
     "cell_type": "code",
     "collapsed": false,
     "input": [],
     "language": "python",
     "metadata": {},
     "outputs": []
    }
   ],
   "metadata": {}
  }
 ]
}