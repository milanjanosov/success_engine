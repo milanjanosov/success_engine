{
 "metadata": {
  "name": "",
  "signature": "sha256:c79041ac5bdf363a0e5dd2c79c8f400912b2775d79e6ead2e742bc3eed55b4cc"
 },
 "nbformat": 3,
 "nbformat_minor": 0,
 "worksheets": [
  {
   "cells": [
    {
     "cell_type": "code",
     "collapsed": false,
     "input": [
      "import os\n",
      "import numpy as np\n",
      "import matplotlib.pyplot as plt\n",
      "import math\n",
      "from scipy.optimize import minimize\n",
      "import scipy.stats as stats\n",
      "%matplotlib inline  "
     ],
     "language": "python",
     "metadata": {},
     "outputs": [],
     "prompt_number": 2
    },
    {
     "cell_type": "heading",
     "level": 1,
     "metadata": {},
     "source": [
      "Simple linear regression with scipy"
     ]
    },
    {
     "cell_type": "code",
     "collapsed": false,
     "input": [
      "\n",
      "# this is how the likelihood function is defined\n",
      "def get_y_exp(mu_p, sum_c, mu_Q):\n",
      "    \n",
      "    return [mu_p * sum_c[i] + mu_Q for i in np.arange(0, len(sum_c))]\n",
      "    \n",
      "\n",
      "def logL(x, y, y_exp, sigma):\n",
      "\n",
      "    LogL  = 0\n",
      "    LogL += (len(x)/2 * np.log(2 * np.pi) + len(x)/2 * np.log(sigma ** 2) + 1 / (2 * sigma ** 2) * sum((y - y_exp) ** 2))\n",
      "\n",
      "    return LogL \n",
      "\n",
      "\n",
      "# the likelihood model takes the parameters, mu_p, mu_Q, and mu_N to optimize\n",
      "# and takes sum_c, sum_c2, constant lists, as args \n",
      "def lik(parameters, *args):\n",
      "\n",
      "    # list of input data\n",
      "    sum_c   = args[0][0]\n",
      "    sum_c2  = args[0][1]\n",
      "\n",
      "    # parameters to optimize\n",
      "    mu_p = parameters[0]\n",
      "    mu_Q = parameters[1]\n",
      "    mu_N = parameters[2]\n",
      "\n",
      "    # do the likelihood stuff for the linear regression\n",
      "    y_exp = get_y_exp(mu_p, sum_c, mu_Q)\n",
      "    L = logL(sum_c, sum_c2, y_exp, mu_N)\n",
      "\n",
      "    return L\n",
      "\n",
      "\n",
      "# this function just reads the data and calls the likelihood model\n",
      "# and prints & plots the result\n",
      "def optimize():\n",
      "\n",
      "\n",
      "    # loading the career data: \n",
      "    # sum_c and sum_c2 contain the sum of the impacts and the square sum of the impacts, while N contains the productivities \n",
      "    #\n",
      "    # careerstrajectorie is a folder with synthetic careers generated to have certain mu vector and covariances\n",
      "    # I read and add the sum and square sum of their impacts (just thats what the formulas use)\n",
      "    files = os.listdir('career_data')\n",
      "\n",
      "    sum_c   = []\n",
      "    sum_c2  = []\n",
      "    N       = []\n",
      "\n",
      "    for filename in files[0:100]:\n",
      "\n",
      "        c_i = [float(line.strip().split('\\t')[1]) for line in open('career_data/' + filename)]\n",
      "        if len(c_i) > 4:\n",
      "            sum_c   .append(sum([math.log(c) for c in c_i]))\n",
      "            sum_c2  .append(sum([(math.log(c))**2 for c in c_i]))\n",
      "            N       .append(math.log(len(c_i)))\n",
      "       \n",
      "\n",
      "    sum_c  = np.array(sum_c)\n",
      "    sum_c2 = np.array(sum_c2)\n",
      "\n",
      "    \n",
      "    # this is the minimizer\n",
      "    lik_model = minimize(lik, np.array([1.0,1.0,1.0]), args=([sum_c, sum_c2, N] , ), method='TNC')\n",
      "\n",
      "    \n",
      "    # plot and print the results\n",
      "    print lik_model\n",
      "    plt.scatter(sum_c,sum_c2)\n",
      "    plt.plot(sum_c, lik_model['x'][0] * sum_c + lik_model['x'][1])\n",
      "    plt.show()\n",
      "\n",
      "    \n",
      "\n",
      "\n",
      "if __name__ == '__main__':         \n",
      "\n",
      "    # this does the whole optimization\n",
      "    optimize()"
     ],
     "language": "python",
     "metadata": {},
     "outputs": [
      {
       "output_type": "stream",
       "stream": "stdout",
       "text": [
        "     fun: 629.377964621886\n",
        "     jac: array([0.00095497, 0.00042064, 0.00079581])\n",
        " message: 'Converged (|f_n-f_(n-1)| ~= 0)'\n",
        "    nfev: 90\n",
        "     nit: 22\n",
        "  status: 1\n",
        " success: True\n",
        "       x: array([   5.04513053, -106.19301348,  195.85896994])\n"
       ]
      },
      {
       "metadata": {},
       "output_type": "display_data",
       "png": "[encoded data removed]",
       "text": [
        "<matplotlib.figure.Figure at 0x7fa2d89ced90>"
       ]
      }
     ],
     "prompt_number": 60
    },
    {
     "cell_type": "heading",
     "level": 1,
     "metadata": {},
     "source": [
      "Adopting the model to (S19)"
     ]
    },
    {
     "cell_type": "markdown",
     "metadata": {},
     "source": [
      "http://www.robertasinatra.com/pdf/Science_quantifying_Supplementary.pdf "
     ]
    },
    {
     "cell_type": "heading",
     "level": 3,
     "metadata": {},
     "source": [
      "[Helpers] Defining the A_i, B_i, C_i, D_i coefficients and the determinant K, and the likelihood function"
     ]
    },
    {
     "cell_type": "code",
     "collapsed": false,
     "input": [
      "# I have checked the formulas numerous times, both the typing and the original ones in the paper (found some minor errors so these are not 100% those formulas)\n",
      "\n",
      "def get_K(sigma_p2, sigma_Q2, sigma_N2, sigma_pQ, sigma_QN, sigma_pN, sigma_pN2, sigma_QN2, sigma_pQ2 ):\n",
      "\n",
      "    return sigma_p2 * sigma_Q2 * sigma_N2 + 2 * sigma_pQ * sigma_QN * sigma_pN - sigma_pN2 * sigma_Q2 - sigma_QN2 * sigma_p2 - sigma_pQ2*sigma_N2 \n",
      "\n",
      "\n",
      "def get_A_i(expN, inv_expN, nev, K, sigma_p2, sigma_Q2, sigma_N2, sigma_pQ, sigma_QN, sigma_pN, sigma_pN2, sigma_QN2, sigma_pQ2 ):\n",
      "\n",
      "    return ( inv_expN / nev * sigma_N2 + expN/K * ( nev - 2*(sigma_pN*sigma_QN - sigma_pQ * sigma_N2) + sigma_p2 * sigma_N2 - sigma_pN2 ) ) / 2.0\n",
      "\n",
      "\n",
      "def get_B_i(sum_ci, sum_ci2, N_i, mu_N, mu_p, mu_Q, N, expN, inv_expN, nev, K, sigma_p2, sigma_Q2, sigma_N2, sigma_pQ, sigma_QN, sigma_pN, sigma_pN2, sigma_QN2, sigma_pQ2):\n",
      "\n",
      "    return ( inv_expN/nev * (-2.0*mu_Q*sigma_N2 - 2.0 * sigma_QN*(N_i - mu_N)) + expN/K * (-2.0 * (sum_ci/expN - mu_p)  * nev  + 2.0 * (sum_ci/expN - mu_p + mu_Q) * (sigma_pN*sigma_QN - sigma_pQ*sigma_N2) - 2.0 * (sigma_pQ*sigma_QN - sigma_pN*sigma_Q2) * (N_i - mu_N)   - 2.0 * mu_Q * (sigma_p2*sigma_N2 - sigma_pN2)+ 2.0 * (sigma_pN*sigma_pQ - sigma_p2*sigma_QN)*(N_i - mu_N) ) ) / 2.0  \n",
      "\n",
      "\n",
      "def get_C_i(sigma_p, sigma_Q, sigma_N, sum_ci, sum_ci2, N_i, mu_N, mu_p, mu_Q, N, expN, inv_expN, nev, K, sigma_p2, sigma_Q2, sigma_N2, sigma_pQ, sigma_QN, sigma_pN, sigma_pN2, sigma_QN2, sigma_pQ2):\n",
      "\n",
      "    return ( inv_expN/nev * (sigma_N2*mu_Q**2 + 2.0 * sigma_QN*mu_Q*(N_i - mu_N) + sigma_Q2 * (N_i - mu_N)**2)  + expN/K * (  nev* (sum_ci2/expN + mu_p**2 - 2.0*mu_p*sum_ci )  - 2.0 * mu_Q * (sigma_pN*sigma_QN - sigma_pQ*sigma_N2) * (sum_ci/expN - mu_p) + 2.0 * (sigma_pQ*sigma_QN - sigma_pN*sigma_Q2)*(N_i - mu_N)*(sum_ci/expN - mu_p) + mu_Q**2*(sigma_p**2*sigma_N**2 - sigma_pN2) - 2.0 * mu_Q * (sigma_pN*sigma_pQ - sigma_p2*sigma_QN)*(N_i - mu_N) + (sigma_p2*sigma_Q2 - sigma_pQ2)*(N_i - mu_N)**2 ) ) / 2.0\n",
      "\n",
      "\n",
      "def get_D_i(pi, expN, nev, inv_expN, K):\n",
      "\n",
      "    return (2.0*pi)**(1.0 + 0.5 * expN) * (nev) ** (inv_expN/2.0) * abs(K)**(expN/2.0)\n",
      "\n",
      "\n",
      "def get_L_i(pi, A_i, B_i, C_i, D_i):\n",
      "\n",
      "    return - 1.0 * (    (B_i**2 / ( 4*A_i ) ) - C_i + math.log(1.0/D_i * math.sqrt(pi/A_i))     )\n",
      "\n",
      "\n",
      "\n",
      "\n"
     ],
     "language": "python",
     "metadata": {},
     "outputs": [],
     "prompt_number": 3
    },
    {
     "cell_type": "code",
     "collapsed": false,
     "input": [
      "# first I consider the covariance matrix to be fixed with the values I used when generating the careers, and try to optimize only the mu = [mu_p, mu_Q, mu_N] \n",
      "def logL2(sum_c, sum_c2, N, mu_p, mu_Q, mu_N):\n",
      "   \n",
      "\n",
      "    sigma_p = 1.1\n",
      "    sigma_Q = 1.2\n",
      "    sigma_N = 1.3\n",
      "\n",
      "    sigma_pQ = 0.0\n",
      "    sigma_pN = 0.0\n",
      "    sigma_QN = 0.5\n",
      "\n",
      "    sigma_Q2 = sigma_Q**2\n",
      "    sigma_N2 = sigma_N**2\n",
      "    sigma_p2 = sigma_p**2\n",
      "\n",
      "    sigma_QN2 = sigma_QN**2\n",
      "    sigma_pN2 = sigma_pN**2\n",
      "    sigma_pQ2 = sigma_pQ**2\n",
      "    \n",
      "    nev = sigma_Q2*sigma_N2 - sigma_QN2\n",
      "\n",
      "    logL = 0\n",
      "\n",
      "    for index, sum_ci in enumerate(sum_c):\n",
      "\n",
      "        # these are just the helper constants\n",
      "        sum_ci2  = sum_c2[index]\n",
      "        N_i      = N[index]\n",
      "        pi       = math.pi\n",
      "        expN     = math.exp(N_i)\n",
      "        inv_expN = 1.0 - math.exp(N_i)\n",
      "    \n",
      "        # here I call the helper functions to calc the coefficients\n",
      "        K = get_K(sigma_p2, sigma_Q2, sigma_N2, sigma_pQ, sigma_QN, sigma_pN, sigma_pN2, sigma_QN2, sigma_pQ2)\n",
      "    \n",
      "        A_i = get_A_i(expN, inv_expN, nev, K, sigma_p2, sigma_Q2, sigma_N2, sigma_pQ, sigma_QN, sigma_pN, sigma_pN2, sigma_QN2, sigma_pQ2 )\n",
      "        B_i = get_B_i(sum_ci, sum_ci2, N_i, mu_N, mu_p, mu_Q, N, expN, inv_expN, nev, K, sigma_p2, sigma_Q2, sigma_N2, sigma_pQ, sigma_QN, sigma_pN, sigma_pN2, sigma_QN2, sigma_pQ2)\n",
      "        C_i = get_C_i(sigma_p, sigma_Q, sigma_N, sum_ci, sum_ci2, N_i, mu_N, mu_p, mu_Q, N, expN, inv_expN, nev, K, sigma_p2, sigma_Q2, sigma_N2, sigma_pQ, sigma_QN, sigma_pN, sigma_pN2, sigma_QN2, sigma_pQ2)\n",
      "        D_i = get_D_i(pi, expN, nev, inv_expN, K)\n",
      "\n",
      "        # the - is because the algorithm is minimizing, but we want to have a maximum\n",
      "        logL -= get_L_i(pi, A_i, B_i, C_i, D_i)\n",
      "\n",
      "\n",
      "\n",
      "\n",
      "    return logL\n",
      "\n",
      "\n",
      "\n",
      "# the usual likelihood model   \n",
      "def lik(parameters, *args):\n",
      "\n",
      "    \n",
      "    sum_c   = args[0][0]\n",
      "    sum_c2  = args[0][1]\n",
      "    N       = args[0][2]\n",
      "    \n",
      "    mu_p = parameters[0]\n",
      "    mu_Q = parameters[1]\n",
      "    mu_N = parameters[2]\n",
      "\n",
      "    L = logL2(sum_c, sum_c2, N, mu_p, mu_Q, mu_N)\n",
      "   # y_exp = get_y_exp(mu_p, sum_c, mu_Q)\n",
      "   # L = logL(sum_c, sum_c2, y_exp, mu_N)\n",
      "    \n",
      "    \n",
      "    return L\n",
      "\n",
      "\n",
      "\n",
      "# reading the \n",
      "def optimize():\n",
      "\n",
      "\n",
      "    # load the career data: \n",
      "    # sum_c and sum_c2 contain the sum of the impacts and the square sum of the impacts, while N contains the productivities \n",
      "    files = os.listdir('career_data')\n",
      "\n",
      "    sum_c   = []\n",
      "    sum_c2  = []\n",
      "    N       = []\n",
      "    cc       = []\n",
      "        \n",
      "    for filename in files[0:100]:\n",
      "\n",
      "        c_i = [float(line.strip().split('\\t')[1]) for line in open('career_data/' + filename)]\n",
      "        cc  += c_i\n",
      "        \n",
      "        if len(c_i) > 4:\n",
      "            sum_c   .append(sum([math.log(c) for c in c_i]))\n",
      "            sum_c2  .append(sum([(math.log(c))**2 for c in c_i]))\n",
      "            N       .append(math.log(len(c_i)))\n",
      "       \n",
      "\n",
      "        \n",
      "    sum_c  = np.array(sum_c)\n",
      "    sum_c2 = np.array(sum_c2)\n",
      "\n",
      "\n",
      "    # run the minimizer\n",
      "    # I set an upper and lower limits for the mu_p, mu_Q, mu_N boundaries \n",
      "    # for initial values I used the ones with which I generated the data  #  mu  = [3.1, 2.2, 1.0]\n",
      "    limit = 100.0\n",
      "    bnds  = [(0.0, limit), (0.0, limit), (0.0, limit)]\n",
      "\n",
      "    lik_model = minimize(  lik,\n",
      "                   np.array([1.5,  2.5,  3.5]),  # 1.0  2.2  3.1 \n",
      "                   args=([sum_c, sum_c2, N] , ), \n",
      "                   method = 'TNC', \n",
      "                   options = {'eps'    : 0.0001, \n",
      "                              'ftol'   : 0.001,\n",
      "                              'maxiter': 200}, \n",
      "                   bounds = bnds )#, method='SLSQP', bounds = bnds)   \n",
      "\n",
      "    \n",
      "    print  lik_model\n",
      "    plt.scatter(sum_c,sum_c2)\n",
      "    plt.plot(sum_c, lik_model['x'][0] * sum_c + lik_model['x'][1])\n",
      "    plt.show()\n",
      "\n",
      "    \n",
      "\n",
      "\n",
      "if __name__ == '__main__':         \n",
      "\n",
      "\n",
      "    optimize()"
     ],
     "language": "python",
     "metadata": {},
     "outputs": [
      {
       "output_type": "stream",
       "stream": "stdout",
       "text": [
        "     fun: -301680.17918659345\n",
        "     jac: array([1376991.36415322,    2216.77587077,   -6036.52600432])\n",
        " message: 'Local minimum reached (|pg| ~= 0)'\n",
        "    nfev: 8\n",
        "     nit: 3\n",
        "  status: 0\n",
        " success: True\n",
        "       x: array([  0.,   0., 100.])\n"
       ]
      },
      {
       "metadata": {},
       "output_type": "display_data",
       "png": "[encoded data removed]",
       "text": [
        "<matplotlib.figure.Figure at 0x7fa2d8996d50>"
       ]
      }
     ],
     "prompt_number": 105
    },
    {
     "cell_type": "code",
     "collapsed": false,
     "input": [],
     "language": "python",
     "metadata": {},
     "outputs": [],
     "prompt_number": 94
    },
    {
     "cell_type": "code",
     "collapsed": false,
     "input": [
      "\n",
      "# this is how the likelihood function is defined\n",
      "def get_y_exp(mu_p, sum_c, mu_Q):\n",
      "    \n",
      "    return [mu_p * sum_c[i] + mu_Q for i in np.arange(0, len(sum_c))]\n",
      "    \n",
      "\n",
      "def logL(x, y, y_exp, sigma):\n",
      "\n",
      "    LogL  = 0\n",
      "    LogL += (len(x)/2 * np.log(2 * np.pi) + len(x)/2 * np.log(sigma ** 2) + 1 / (2 * sigma ** 2) * sum((y - y_exp) ** 2))\n",
      "\n",
      "    return LogL \n",
      "\n",
      "\n",
      "# the likelihood model takes the parameters, mu_p, mu_Q, and mu_N to optimize\n",
      "# and takes sum_c, sum_c2, constant lists, as args \n",
      "def lik(parameters, *args):\n",
      "\n",
      "    # list of input data\n",
      "    sum_c   = args[0][0]\n",
      "    sum_c2  = args[0][1]\n",
      "\n",
      "    # parameters to optimize\n",
      "    mu_p = parameters[0]\n",
      "    mu_Q = parameters[1]\n",
      "    mu_N = parameters[2]\n",
      "\n",
      "    # do the likelihood stuff for the linear regression\n",
      "    y_exp = get_y_exp(mu_p, sum_c, mu_Q)\n",
      "    L = logL(sum_c, sum_c2, y_exp, mu_N)\n",
      "\n",
      "    return L\n",
      "\n",
      "\n",
      "# this function just reads the data and calls the likelihood model\n",
      "# and prints & plots the result\n",
      "def optimize():\n",
      "\n",
      "\n",
      "    # loading the career data: \n",
      "    # sum_c and sum_c2 contain the sum of the impacts and the square sum of the impacts, while N contains the productivities \n",
      "    #\n",
      "    # careerstrajectorie is a folder with synthetic careers generated to have certain mu vector and covariances\n",
      "    # I read and add the sum and square sum of their impacts (just thats what the formulas use)\n",
      "    files = os.listdir('career_data')\n",
      "\n",
      "    sum_c   = []\n",
      "    sum_c2  = []\n",
      "    N       = []\n",
      "\n",
      "    for filename in files[0:100]:\n",
      "\n",
      "        c_i = [float(line.strip().split('\\t')[1]) for line in open('career_data/' + filename)]\n",
      "        if len(c_i) > 4:\n",
      "            sum_c   .append(sum([math.log(c) for c in c_i]))\n",
      "            sum_c2  .append(sum([(math.log(c))**2 for c in c_i]))\n",
      "            N       .append(math.log(len(c_i)))\n",
      "       \n",
      "\n",
      "    sum_c  = np.array(sum_c)\n",
      "    sum_c2 = np.array(sum_c2)\n",
      "\n",
      "    \n",
      "    # this is the minimizer\n",
      "    lik_model = minimize(lik, np.array([1.0,1.0,1.0]), args=([sum_c, sum_c2, N] , ), method='TNC')\n",
      "\n",
      "    \n",
      "    # plot and print the results\n",
      "    print lik_model\n",
      "    plt.scatter(sum_c,sum_c2)\n",
      "    plt.plot(sum_c, lik_model['x'][0] * sum_c + lik_model['x'][1])\n",
      "    plt.show()\n",
      "\n",
      "    \n",
      "\n",
      "\n",
      "if __name__ == '__main__':         \n",
      "\n",
      "    # this does the whole optimization\n",
      "    optimize()"
     ],
     "language": "python",
     "metadata": {},
     "outputs": [
      {
       "output_type": "stream",
       "stream": "stdout",
       "text": [
        "     fun: 797.17190423474926\n",
        "     jac: array([  4.01402076e+00,   8.33324520e-03,  -1.62572178e-03])\n",
        " message: 'Max. number of function evaluations reached'\n",
        "    nfev: 100\n",
        "     nit: 24\n",
        "  status: 3\n",
        " success: False\n",
        "       x: array([   26.96750271,   -29.69939362,  1385.40407349])\n"
       ]
      },
      {
       "metadata": {},
       "output_type": "display_data",
       "png": "[encoded data removed]",
       "text": [
        "<matplotlib.figure.Figure at 0x7f946b5ad4d0>"
       ]
      }
     ],
     "prompt_number": 3
    },
    {
     "cell_type": "code",
     "collapsed": false,
     "input": [
      "def rosen(x, *args):\n",
      "    \n",
      "    I = args[0][0]\n",
      "    N = args[0][1]\n",
      "    \n",
      "    ps = [np.exp(pp) for pp in list(np.random.normal(x[0], 1, len(I)))]\n",
      "    Qs = [np.exp(pp) for pp in list(np.random.normal(6.5,  1, len(N)))]\n",
      "    \n",
      "    Isynt = []\n",
      "\n",
      "    for index, n in enumerate(N):\n",
      "        for i in range(n):\n",
      "            Q = Qs[index]\n",
      "            p = ps[0]\n",
      "            ps.remove(p)\n",
      "            impact = Q * p\n",
      "            Isynt.append(impact)\n",
      "\n",
      "            \n",
      "    S = stats.ks_2samp(np.cumsum(I), np.cumsum(Isynt))[0]\n",
      "    if S < 0.05:\n",
      "        print x[0], S\n",
      "    \n",
      "    return stats.ks_2samp(np.cumsum(I), np.cumsum(Isynt))[0]\n",
      "\n",
      "\n",
      "    #return sum(100.0*(x[1:]-x[:-1]**2.0)**2.0 + (1-x[:-1])**2.0)\n",
      "\n",
      "\n",
      "\n",
      "''' data '''\n",
      "\n",
      "I = []\n",
      "N = []\n",
      "files = os.listdir('career_data')      \n",
      "for filename in files:\n",
      "    c_i = [float(line.strip().split('\\t')[1]) for line in open('career_data/' + filename)]\n",
      "    N.append(len(c_i))\n",
      "    for c in c_i:   \n",
      "        I.append(c)\n",
      "\n",
      "\n",
      "''' optimizer '''\n",
      "\n",
      "\n",
      "        \n",
      "x0 = np.array([20.4])#, 1.0, 6.5, 1.0])\n",
      "res = minimize(rosen, x0,  args=([I, N] , ),  method='nelder-mead', options={'xtol': 1e-8, 'disp': True, 'maxiter' : 200})\n"
     ],
     "language": "python",
     "metadata": {},
     "outputs": [
      {
       "output_type": "stream",
       "stream": "stdout",
       "text": [
        "20.4 0.0384755652808\n",
        "20.4159375"
       ]
      },
      {
       "output_type": "stream",
       "stream": "stdout",
       "text": [
        " 0.0430483083656\n",
        "20.40796875"
       ]
      },
      {
       "output_type": "stream",
       "stream": "stdout",
       "text": [
        " 0.0432867642933\n",
        "20.399992218"
       ]
      },
      {
       "output_type": "stream",
       "stream": "stdout",
       "text": [
        " 0.0434270324861\n",
        "20.400007782"
       ]
      },
      {
       "output_type": "stream",
       "stream": "stdout",
       "text": [
        " 0.0474948100769\n",
        "20.399996109"
       ]
      },
      {
       "output_type": "stream",
       "stream": "stdout",
       "text": [
        " 0.0491359479324\n",
        "20.399996109"
       ]
      },
      {
       "output_type": "stream",
       "stream": "stdout",
       "text": [
        " 0.0454188408237\n",
        "20.3999980545"
       ]
      },
      {
       "output_type": "stream",
       "stream": "stdout",
       "text": [
        " 0.040299051787\n",
        "20.4000019455"
       ]
      },
      {
       "output_type": "stream",
       "stream": "stdout",
       "text": [
        " 0.0378022779555\n",
        "20.4000021887"
       ]
      },
      {
       "output_type": "stream",
       "stream": "stdout",
       "text": [
        " 0.0438618638837\n",
        "20.4000020063"
       ]
      },
      {
       "output_type": "stream",
       "stream": "stdout",
       "text": [
        " 0.0421926723896\n"
       ]
      },
      {
       "ename": "KeyboardInterrupt",
       "evalue": "",
       "output_type": "pyerr",
       "traceback": [
        "\u001b[0;31m---------------------------------------------------------------------------\u001b[0m\n\u001b[0;31mKeyboardInterrupt\u001b[0m                         Traceback (most recent call last)",
        "\u001b[0;32m<ipython-input-16-f34ea908f049>\u001b[0m in \u001b[0;36m<module>\u001b[0;34m()\u001b[0m\n\u001b[1;32m     46\u001b[0m \u001b[0;34m\u001b[0m\u001b[0m\n\u001b[1;32m     47\u001b[0m \u001b[0mx0\u001b[0m \u001b[0;34m=\u001b[0m \u001b[0mnp\u001b[0m\u001b[0;34m.\u001b[0m\u001b[0marray\u001b[0m\u001b[0;34m(\u001b[0m\u001b[0;34m[\u001b[0m\u001b[0;36m20.4\u001b[0m\u001b[0;34m]\u001b[0m\u001b[0;34m)\u001b[0m\u001b[0;31m#, 1.0, 6.5, 1.0])\u001b[0m\u001b[0;34m\u001b[0m\u001b[0m\n\u001b[0;32m---> 48\u001b[0;31m \u001b[0mres\u001b[0m \u001b[0;34m=\u001b[0m \u001b[0mminimize\u001b[0m\u001b[0;34m(\u001b[0m\u001b[0mrosen\u001b[0m\u001b[0;34m,\u001b[0m \u001b[0mx0\u001b[0m\u001b[0;34m,\u001b[0m  \u001b[0margs\u001b[0m\u001b[0;34m=\u001b[0m\u001b[0;34m(\u001b[0m\u001b[0;34m[\u001b[0m\u001b[0mI\u001b[0m\u001b[0;34m,\u001b[0m \u001b[0mN\u001b[0m\u001b[0;34m]\u001b[0m \u001b[0;34m,\u001b[0m \u001b[0;34m)\u001b[0m\u001b[0;34m,\u001b[0m  \u001b[0mmethod\u001b[0m\u001b[0;34m=\u001b[0m\u001b[0;34m'nelder-mead'\u001b[0m\u001b[0;34m,\u001b[0m \u001b[0moptions\u001b[0m\u001b[0;34m=\u001b[0m\u001b[0;34m{\u001b[0m\u001b[0;34m'xtol'\u001b[0m\u001b[0;34m:\u001b[0m \u001b[0;36m1e-8\u001b[0m\u001b[0;34m,\u001b[0m \u001b[0;34m'disp'\u001b[0m\u001b[0;34m:\u001b[0m \u001b[0mTrue\u001b[0m\u001b[0;34m,\u001b[0m \u001b[0;34m'maxiter'\u001b[0m \u001b[0;34m:\u001b[0m \u001b[0;36m200\u001b[0m\u001b[0;34m}\u001b[0m\u001b[0;34m)\u001b[0m\u001b[0;34m\u001b[0m\u001b[0m\n\u001b[0m",
        "\u001b[0;32m/home/ubuntu/.local/lib/python2.7/site-packages/scipy/optimize/_minimize.pyc\u001b[0m in \u001b[0;36mminimize\u001b[0;34m(fun, x0, args, method, jac, hess, hessp, bounds, constraints, tol, callback, options)\u001b[0m\n\u001b[1;32m    473\u001b[0m                       callback=callback, **options)\n\u001b[1;32m    474\u001b[0m     \u001b[0;32melif\u001b[0m \u001b[0mmeth\u001b[0m \u001b[0;34m==\u001b[0m \u001b[0;34m'nelder-mead'\u001b[0m\u001b[0;34m:\u001b[0m\u001b[0;34m\u001b[0m\u001b[0m\n\u001b[0;32m--> 475\u001b[0;31m         \u001b[0;32mreturn\u001b[0m \u001b[0m_minimize_neldermead\u001b[0m\u001b[0;34m(\u001b[0m\u001b[0mfun\u001b[0m\u001b[0;34m,\u001b[0m \u001b[0mx0\u001b[0m\u001b[0;34m,\u001b[0m \u001b[0margs\u001b[0m\u001b[0;34m,\u001b[0m \u001b[0mcallback\u001b[0m\u001b[0;34m,\u001b[0m \u001b[0;34m**\u001b[0m\u001b[0moptions\u001b[0m\u001b[0;34m)\u001b[0m\u001b[0;34m\u001b[0m\u001b[0m\n\u001b[0m\u001b[1;32m    476\u001b[0m     \u001b[0;32melif\u001b[0m \u001b[0mmeth\u001b[0m \u001b[0;34m==\u001b[0m \u001b[0;34m'powell'\u001b[0m\u001b[0;34m:\u001b[0m\u001b[0;34m\u001b[0m\u001b[0m\n\u001b[1;32m    477\u001b[0m         \u001b[0;32mreturn\u001b[0m \u001b[0m_minimize_powell\u001b[0m\u001b[0;34m(\u001b[0m\u001b[0mfun\u001b[0m\u001b[0;34m,\u001b[0m \u001b[0mx0\u001b[0m\u001b[0;34m,\u001b[0m \u001b[0margs\u001b[0m\u001b[0;34m,\u001b[0m \u001b[0mcallback\u001b[0m\u001b[0;34m,\u001b[0m \u001b[0;34m**\u001b[0m\u001b[0moptions\u001b[0m\u001b[0;34m)\u001b[0m\u001b[0;34m\u001b[0m\u001b[0m\n",
        "\u001b[0;32m/home/ubuntu/.local/lib/python2.7/site-packages/scipy/optimize/optimize.pyc\u001b[0m in \u001b[0;36m_minimize_neldermead\u001b[0;34m(func, x0, args, callback, maxiter, maxfev, disp, return_all, initial_simplex, xatol, fatol, **unknown_options)\u001b[0m\n\u001b[1;32m    567\u001b[0m                 \u001b[0;32mif\u001b[0m \u001b[0mfxr\u001b[0m \u001b[0;34m<\u001b[0m \u001b[0mfsim\u001b[0m\u001b[0;34m[\u001b[0m\u001b[0;34m-\u001b[0m\u001b[0;36m1\u001b[0m\u001b[0;34m]\u001b[0m\u001b[0;34m:\u001b[0m\u001b[0;34m\u001b[0m\u001b[0m\n\u001b[1;32m    568\u001b[0m                     \u001b[0mxc\u001b[0m \u001b[0;34m=\u001b[0m \u001b[0;34m(\u001b[0m\u001b[0;36m1\u001b[0m \u001b[0;34m+\u001b[0m \u001b[0mpsi\u001b[0m \u001b[0;34m*\u001b[0m \u001b[0mrho\u001b[0m\u001b[0;34m)\u001b[0m \u001b[0;34m*\u001b[0m \u001b[0mxbar\u001b[0m \u001b[0;34m-\u001b[0m \u001b[0mpsi\u001b[0m \u001b[0;34m*\u001b[0m \u001b[0mrho\u001b[0m \u001b[0;34m*\u001b[0m \u001b[0msim\u001b[0m\u001b[0;34m[\u001b[0m\u001b[0;34m-\u001b[0m\u001b[0;36m1\u001b[0m\u001b[0;34m]\u001b[0m\u001b[0;34m\u001b[0m\u001b[0m\n\u001b[0;32m--> 569\u001b[0;31m                     \u001b[0mfxc\u001b[0m \u001b[0;34m=\u001b[0m \u001b[0mfunc\u001b[0m\u001b[0;34m(\u001b[0m\u001b[0mxc\u001b[0m\u001b[0;34m)\u001b[0m\u001b[0;34m\u001b[0m\u001b[0m\n\u001b[0m\u001b[1;32m    570\u001b[0m \u001b[0;34m\u001b[0m\u001b[0m\n\u001b[1;32m    571\u001b[0m                     \u001b[0;32mif\u001b[0m \u001b[0mfxc\u001b[0m \u001b[0;34m<=\u001b[0m \u001b[0mfxr\u001b[0m\u001b[0;34m:\u001b[0m\u001b[0;34m\u001b[0m\u001b[0m\n",
        "\u001b[0;32m/home/ubuntu/.local/lib/python2.7/site-packages/scipy/optimize/optimize.pyc\u001b[0m in \u001b[0;36mfunction_wrapper\u001b[0;34m(*wrapper_args)\u001b[0m\n\u001b[1;32m    290\u001b[0m     \u001b[0;32mdef\u001b[0m \u001b[0mfunction_wrapper\u001b[0m\u001b[0;34m(\u001b[0m\u001b[0;34m*\u001b[0m\u001b[0mwrapper_args\u001b[0m\u001b[0;34m)\u001b[0m\u001b[0;34m:\u001b[0m\u001b[0;34m\u001b[0m\u001b[0m\n\u001b[1;32m    291\u001b[0m         \u001b[0mncalls\u001b[0m\u001b[0;34m[\u001b[0m\u001b[0;36m0\u001b[0m\u001b[0;34m]\u001b[0m \u001b[0;34m+=\u001b[0m \u001b[0;36m1\u001b[0m\u001b[0;34m\u001b[0m\u001b[0m\n\u001b[0;32m--> 292\u001b[0;31m         \u001b[0;32mreturn\u001b[0m \u001b[0mfunction\u001b[0m\u001b[0;34m(\u001b[0m\u001b[0;34m*\u001b[0m\u001b[0;34m(\u001b[0m\u001b[0mwrapper_args\u001b[0m \u001b[0;34m+\u001b[0m \u001b[0margs\u001b[0m\u001b[0;34m)\u001b[0m\u001b[0;34m)\u001b[0m\u001b[0;34m\u001b[0m\u001b[0m\n\u001b[0m\u001b[1;32m    293\u001b[0m \u001b[0;34m\u001b[0m\u001b[0m\n\u001b[1;32m    294\u001b[0m     \u001b[0;32mreturn\u001b[0m \u001b[0mncalls\u001b[0m\u001b[0;34m,\u001b[0m \u001b[0mfunction_wrapper\u001b[0m\u001b[0;34m\u001b[0m\u001b[0m\n",
        "\u001b[0;32m<ipython-input-16-f34ea908f049>\u001b[0m in \u001b[0;36mrosen\u001b[0;34m(x, *args)\u001b[0m\n\u001b[1;32m     13\u001b[0m             \u001b[0mQ\u001b[0m \u001b[0;34m=\u001b[0m \u001b[0mQs\u001b[0m\u001b[0;34m[\u001b[0m\u001b[0mindex\u001b[0m\u001b[0;34m]\u001b[0m\u001b[0;34m\u001b[0m\u001b[0m\n\u001b[1;32m     14\u001b[0m             \u001b[0mp\u001b[0m \u001b[0;34m=\u001b[0m \u001b[0mps\u001b[0m\u001b[0;34m[\u001b[0m\u001b[0;36m0\u001b[0m\u001b[0;34m]\u001b[0m\u001b[0;34m\u001b[0m\u001b[0m\n\u001b[0;32m---> 15\u001b[0;31m             \u001b[0mps\u001b[0m\u001b[0;34m.\u001b[0m\u001b[0mremove\u001b[0m\u001b[0;34m(\u001b[0m\u001b[0mp\u001b[0m\u001b[0;34m)\u001b[0m\u001b[0;34m\u001b[0m\u001b[0m\n\u001b[0m\u001b[1;32m     16\u001b[0m             \u001b[0mimpact\u001b[0m \u001b[0;34m=\u001b[0m \u001b[0mQ\u001b[0m \u001b[0;34m*\u001b[0m \u001b[0mp\u001b[0m\u001b[0;34m\u001b[0m\u001b[0m\n\u001b[1;32m     17\u001b[0m             \u001b[0mIsynt\u001b[0m\u001b[0;34m.\u001b[0m\u001b[0mappend\u001b[0m\u001b[0;34m(\u001b[0m\u001b[0mimpact\u001b[0m\u001b[0;34m)\u001b[0m\u001b[0;34m\u001b[0m\u001b[0m\n",
        "\u001b[0;31mKeyboardInterrupt\u001b[0m: "
       ]
      }
     ],
     "prompt_number": 16
    },
    {
     "cell_type": "code",
     "collapsed": false,
     "input": [],
     "language": "python",
     "metadata": {},
     "outputs": []
    }
   ],
   "metadata": {}
  }
 ]
}