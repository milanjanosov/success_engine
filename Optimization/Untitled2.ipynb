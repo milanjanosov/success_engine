{
 "metadata": {
  "name": "",
  "signature": "sha256:4e61e858c4afb6019bff7fd6a239481843a2ace05bc61e70544ba27c3b612aca"
 },
 "nbformat": 3,
 "nbformat_minor": 0,
 "worksheets": [
  {
   "cells": [
    {
     "cell_type": "code",
     "collapsed": false,
     "input": [
      "import math\n",
      "import numpy as np\n",
      "from scipy.optimize import minimize\n",
      "import matplotlib.pyplot as plt\n",
      "\n",
      "\n",
      "def gaussian(x, mu, sig):\n",
      "    return 1./(math.sqrt(2.*math.pi)*sig)*np.exp(-np.power((x - mu)/sig, 2.)/2)\n",
      "\n",
      "def lik(parameters):\n",
      "\n",
      "    mu    = parameters[0]\n",
      "    sigma = parameters[1]    \n",
      "    n     = len(x)  \n",
      "    L     = n/2.0 * np.log(2 * np.pi) + n/2.0 * math.log(sigma **2 ) + 1/(2*sigma**2) * sum([(x_ - mu)**2 for x_ in x ])\n",
      "\n",
      "    return L\n",
      "\n",
      "\n",
      "\n",
      "mu0    = 10\n",
      "sigma0 = 2\n",
      "\n",
      "x = np.arange(1,20, 0.1)\n",
      "y = gaussian(x, mu0, sigma0)\n",
      "\n",
      "\n",
      "lik_model = minimize(lik, np.array([10.1,2.1]), method='L-BFGS-B')\n",
      "\n",
      "\n",
      "mu    = lik_model['x'][0]\n",
      "sigma = lik_model['x'][1]\n",
      "\n",
      "print lik_model\n",
      "\n",
      "plt.plot(x, gaussian(x, mu, sigma), label = 'fit')\n",
      "plt.plot(x, y, label = 'data')\n",
      "plt.legend()\n",
      "plt.show()"
     ],
     "language": "python",
     "metadata": {},
     "outputs": [
      {
       "output_type": "stream",
       "stream": "stdout",
       "text": [
        "      fun: 592.9729640053432\n",
        " hess_inv: <2x2 LbfgsInvHessProduct with dtype=float64>\n",
        "      jac: array([1.13686838e-05, 4.54747351e-05])\n",
        "  message: 'CONVERGENCE: REL_REDUCTION_OF_F_<=_FACTR*EPSMCH'\n",
        "     nfev: 36\n",
        "      nit: 11\n",
        "   status: 0\n",
        "  success: True\n",
        "        x: array([10.45000238,  5.48475492])\n"
       ]
      }
     ],
     "prompt_number": 1
    },
    {
     "cell_type": "code",
     "collapsed": false,
     "input": [],
     "language": "python",
     "metadata": {},
     "outputs": []
    }
   ],
   "metadata": {}
  }
 ]
}