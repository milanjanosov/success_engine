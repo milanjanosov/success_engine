{
 "metadata": {
  "name": "",
  "signature": "sha256:6ff61e1097681759e6f02246581eb87953703daae763f3efb087b4e2dd22b063"
 },
 "nbformat": 3,
 "nbformat_minor": 0,
 "worksheets": [
  {
   "cells": [
    {
     "cell_type": "code",
     "collapsed": false,
     "input": [
      "import os\n",
      "import numpy as np\n",
      "import matplotlib.pyplot as plt\n",
      "import math\n",
      "from scipy.optimize import minimize\n",
      "import scipy.stats as stats\n",
      "%matplotlib inline  "
     ],
     "language": "python",
     "metadata": {},
     "outputs": [],
     "prompt_number": 1
    },
    {
     "cell_type": "heading",
     "level": 1,
     "metadata": {},
     "source": [
      "Simple linear regression with scipy"
     ]
    },
    {
     "cell_type": "code",
     "collapsed": false,
     "input": [
      "\n",
      "# this is how the likelihood function is defined\n",
      "def get_y_exp(mu_p, sum_c, mu_Q):\n",
      "    \n",
      "    return [mu_p * sum_c[i] + mu_Q for i in np.arange(0, len(sum_c))]\n",
      "    \n",
      "\n",
      "def logL(x, y, y_exp, sigma):\n",
      "\n",
      "    LogL  = 0\n",
      "    LogL += (len(x)/2 * np.log(2 * np.pi) + len(x)/2 * np.log(sigma ** 2) + 1 / (2 * sigma ** 2) * sum((y - y_exp) ** 2))\n",
      "\n",
      "    return LogL \n",
      "\n",
      "\n",
      "# the likelihood model takes the parameters, mu_p, mu_Q, and mu_N to optimize\n",
      "# and takes sum_c, sum_c2, constant lists, as args \n",
      "def lik(parameters, *args):\n",
      "\n",
      "    # list of input data\n",
      "    sum_c   = args[0][0]\n",
      "    sum_c2  = args[0][1]\n",
      "\n",
      "    # parameters to optimize\n",
      "    mu_p = parameters[0]\n",
      "    mu_Q = parameters[1]\n",
      "    mu_N = parameters[2]\n",
      "\n",
      "    # do the likelihood stuff for the linear regression\n",
      "    y_exp = get_y_exp(mu_p, sum_c, mu_Q)\n",
      "    L = logL(sum_c, sum_c2, y_exp, mu_N)\n",
      "\n",
      "    return L\n",
      "\n",
      "\n",
      "# this function just reads the data and calls the likelihood model\n",
      "# and prints & plots the result\n",
      "def optimize():\n",
      "\n",
      "\n",
      "    # loading the career data: \n",
      "    # sum_c and sum_c2 contain the sum of the impacts and the square sum of the impacts, while N contains the productivities \n",
      "    #\n",
      "    # careerstrajectorie is a folder with synthetic careers generated to have certain mu vector and covariances\n",
      "    # I read and add the sum and square sum of their impacts (just thats what the formulas use)\n",
      "    files = os.listdir('career_data')\n",
      "\n",
      "    sum_c   = []\n",
      "    sum_c2  = []\n",
      "    N       = []\n",
      "\n",
      "    for filename in files[0:100]:\n",
      "\n",
      "        c_i = [float(line.strip().split('\\t')[1]) for line in open('career_data/' + filename)]\n",
      "        if len(c_i) > 4:\n",
      "            sum_c   .append(sum([math.log(c) for c in c_i]))\n",
      "            sum_c2  .append(sum([(math.log(c))**2 for c in c_i]))\n",
      "            N       .append(math.log(len(c_i)))\n",
      "       \n",
      "\n",
      "    sum_c  = np.array(sum_c)\n",
      "    sum_c2 = np.array(sum_c2)\n",
      "\n",
      "    \n",
      "    # this is the minimizer\n",
      "    lik_model = minimize(lik, np.array([1.0,1.0,1.0]), args=([sum_c, sum_c2, N] , ), method='TNC')\n",
      "\n",
      "    \n",
      "    # plot and print the results\n",
      "    print lik_model\n",
      "    plt.scatter(sum_c,sum_c2)\n",
      "    plt.plot(sum_c, lik_model['x'][0] * sum_c + lik_model['x'][1])\n",
      "    plt.show()\n",
      "\n",
      "    \n",
      "\n",
      "\n",
      "if __name__ == '__main__':         \n",
      "\n",
      "    # this does the whole optimization\n",
      "    optimize()"
     ],
     "language": "python",
     "metadata": {},
     "outputs": [
      {
       "output_type": "stream",
       "stream": "stdout",
       "text": [
        "     fun: 629.377964621886\n",
        "     jac: array([0.00095497, 0.00042064, 0.00079581])\n",
        " message: 'Converged (|f_n-f_(n-1)| ~= 0)'\n",
        "    nfev: 90\n",
        "     nit: 22\n",
        "  status: 1\n",
        " success: True\n",
        "       x: array([   5.04513053, -106.19301348,  195.85896994])\n"
       ]
      },
      {
       "metadata": {},
       "output_type": "display_data",
       "png": "[encoded data removed]",
       "text": [
        "<matplotlib.figure.Figure at 0x7fa2dadee990>"
       ]
      }
     ],
     "prompt_number": 2
    },
    {
     "cell_type": "heading",
     "level": 1,
     "metadata": {},
     "source": [
      "Adopting the model to (S19)"
     ]
    },
    {
     "cell_type": "markdown",
     "metadata": {},
     "source": [
      "http://www.robertasinatra.com/pdf/Science_quantifying_Supplementary.pdf "
     ]
    },
    {
     "cell_type": "heading",
     "level": 3,
     "metadata": {},
     "source": [
      "[Helpers] Defining the A_i, B_i, C_i, D_i coefficients and the determinant K, and the likelihood function"
     ]
    },
    {
     "cell_type": "code",
     "collapsed": false,
     "input": [
      "# I have checked the formulas numerous times, both the typing and the original ones in the paper (found some minor errors so these are not 100% those formulas)\n",
      "\n",
      "def get_K(sigma_p2, sigma_Q2, sigma_N2, sigma_pQ, sigma_QN, sigma_pN, sigma_pN2, sigma_QN2, sigma_pQ2 ):\n",
      "\n",
      "    return sigma_p2 * sigma_Q2 * sigma_N2 + 2 * sigma_pQ * sigma_QN * sigma_pN - sigma_pN2 * sigma_Q2 - sigma_QN2 * sigma_p2 - sigma_pQ2*sigma_N2 \n",
      "\n",
      "\n",
      "def get_A_i(expN, inv_expN, nev, K, sigma_p2, sigma_Q2, sigma_N2, sigma_pQ, sigma_QN, sigma_pN, sigma_pN2, sigma_QN2, sigma_pQ2 ):\n",
      "\n",
      "    return ( inv_expN / nev * sigma_N2 + expN/K * ( nev - 2*(sigma_pN*sigma_QN - sigma_pQ * sigma_N2) + sigma_p2 * sigma_N2 - sigma_pN2 ) ) / 2.0\n",
      "\n",
      "\n",
      "def get_B_i(sum_ci, sum_ci2, N_i, mu_N, mu_p, mu_Q, N, expN, inv_expN, nev, K, sigma_p2, sigma_Q2, sigma_N2, sigma_pQ, sigma_QN, sigma_pN, sigma_pN2, sigma_QN2, sigma_pQ2):\n",
      "\n",
      "    return ( inv_expN/nev * (-2.0*mu_Q*sigma_N2 - 2.0 * sigma_QN*(N_i - mu_N)) + expN/K * (-2.0 * (sum_ci/expN - mu_p)  * nev  + 2.0 * (sum_ci/expN - mu_p + mu_Q) * (sigma_pN*sigma_QN - sigma_pQ*sigma_N2) - 2.0 * (sigma_pQ*sigma_QN - sigma_pN*sigma_Q2) * (N_i - mu_N)   - 2.0 * mu_Q * (sigma_p2*sigma_N2 - sigma_pN2)+ 2.0 * (sigma_pN*sigma_pQ - sigma_p2*sigma_QN)*(N_i - mu_N) ) ) / 2.0  \n",
      "\n",
      "\n",
      "def get_C_i(sigma_p, sigma_Q, sigma_N, sum_ci, sum_ci2, N_i, mu_N, mu_p, mu_Q, N, expN, inv_expN, nev, K, sigma_p2, sigma_Q2, sigma_N2, sigma_pQ, sigma_QN, sigma_pN, sigma_pN2, sigma_QN2, sigma_pQ2):\n",
      "\n",
      "    return ( inv_expN/nev * (sigma_N2*mu_Q**2 + 2.0 * sigma_QN*mu_Q*(N_i - mu_N) + sigma_Q2 * (N_i - mu_N)**2)  + expN/K * (  nev* (sum_ci2/expN + mu_p**2 - 2.0*mu_p*sum_ci )  - 2.0 * mu_Q * (sigma_pN*sigma_QN - sigma_pQ*sigma_N2) * (sum_ci/expN - mu_p) + 2.0 * (sigma_pQ*sigma_QN - sigma_pN*sigma_Q2)*(N_i - mu_N)*(sum_ci/expN - mu_p) + mu_Q**2*(sigma_p**2*sigma_N**2 - sigma_pN2) - 2.0 * mu_Q * (sigma_pN*sigma_pQ - sigma_p2*sigma_QN)*(N_i - mu_N) + (sigma_p2*sigma_Q2 - sigma_pQ2)*(N_i - mu_N)**2 ) ) / 2.0\n",
      "\n",
      "\n",
      "def get_D_i(pi, expN, nev, inv_expN, K):\n",
      "\n",
      "    return (2.0*pi)**(1.0 + 0.5 * expN) * (nev) ** (inv_expN/2.0) * abs(K)**(expN/2.0)\n",
      "\n",
      "\n",
      "def get_L_i(pi, A_i, B_i, C_i, D_i):\n",
      "\n",
      "    return - 1.0 * (    (B_i**2 / ( 4*A_i ) ) - C_i + math.log(1.0/D_i * math.sqrt(pi/A_i))     )\n",
      "\n",
      "\n",
      "\n",
      "\n"
     ],
     "language": "python",
     "metadata": {},
     "outputs": [],
     "prompt_number": 3
    },
    {
     "cell_type": "code",
     "collapsed": false,
     "input": [
      "# first I consider the covariance matrix to be fixed with the values I used when generating the careers, and try to optimize only the mu = [mu_p, mu_Q, mu_N] \n",
      "def logL2(sum_c, sum_c2, N, mu_p, mu_Q, mu_N):\n",
      "   \n",
      "\n",
      "    sigma_p = 1.1\n",
      "    sigma_Q = 1.2\n",
      "    sigma_N = 1.3\n",
      "\n",
      "    sigma_pQ = 0.0\n",
      "    sigma_pN = 0.0\n",
      "    sigma_QN = 0.5\n",
      "\n",
      "    sigma_Q2 = sigma_Q**2\n",
      "    sigma_N2 = sigma_N**2\n",
      "    sigma_p2 = sigma_p**2\n",
      "\n",
      "    sigma_QN2 = sigma_QN**2\n",
      "    sigma_pN2 = sigma_pN**2\n",
      "    sigma_pQ2 = sigma_pQ**2\n",
      "    \n",
      "    nev = sigma_Q2*sigma_N2 - sigma_QN2\n",
      "\n",
      "    logL = 0\n",
      "\n",
      "    for index, sum_ci in enumerate(sum_c):\n",
      "\n",
      "        # these are just the helper constants\n",
      "        sum_ci2  = sum_c2[index]\n",
      "        N_i      = N[index]\n",
      "        pi       = math.pi\n",
      "        expN     = math.exp(N_i)\n",
      "        inv_expN = 1.0 - math.exp(N_i)\n",
      "    \n",
      "        # here I call the helper functions to calc the coefficients\n",
      "        K = get_K(sigma_p2, sigma_Q2, sigma_N2, sigma_pQ, sigma_QN, sigma_pN, sigma_pN2, sigma_QN2, sigma_pQ2)\n",
      "    \n",
      "        A_i = get_A_i(expN, inv_expN, nev, K, sigma_p2, sigma_Q2, sigma_N2, sigma_pQ, sigma_QN, sigma_pN, sigma_pN2, sigma_QN2, sigma_pQ2 )\n",
      "        B_i = get_B_i(sum_ci, sum_ci2, N_i, mu_N, mu_p, mu_Q, N, expN, inv_expN, nev, K, sigma_p2, sigma_Q2, sigma_N2, sigma_pQ, sigma_QN, sigma_pN, sigma_pN2, sigma_QN2, sigma_pQ2)\n",
      "        C_i = get_C_i(sigma_p, sigma_Q, sigma_N, sum_ci, sum_ci2, N_i, mu_N, mu_p, mu_Q, N, expN, inv_expN, nev, K, sigma_p2, sigma_Q2, sigma_N2, sigma_pQ, sigma_QN, sigma_pN, sigma_pN2, sigma_QN2, sigma_pQ2)\n",
      "        D_i = get_D_i(pi, expN, nev, inv_expN, K)\n",
      "\n",
      "        # the - is because the algorithm is minimizing, but we want to have a maximum\n",
      "        logL -= get_L_i(pi, A_i, B_i, C_i, D_i)\n",
      "\n",
      "\n",
      "    return logL\n",
      "\n",
      "\n",
      "\n",
      "# the usual likelihood model   \n",
      "def lik(parameters, *args):\n",
      "\n",
      "    \n",
      "    sum_c   = args[0][0]\n",
      "    sum_c2  = args[0][1]\n",
      "    N       = args[0][2]\n",
      "    \n",
      "    mu_p = parameters[0]\n",
      "    mu_Q = parameters[1]\n",
      "    mu_N = parameters[2]\n",
      "\n",
      "    L = logL2(sum_c, sum_c2, N, mu_p, mu_Q, mu_N)\n",
      "\n",
      "    return L\n",
      "\n",
      "\n",
      "\n",
      "# reading the \n",
      "def optimize():\n",
      "\n",
      "\n",
      "    # load the career data: \n",
      "    # sum_c and sum_c2 contain the sum of the impacts and the square sum of the impacts, while N contains the productivities \n",
      "    files = os.listdir('career_data')\n",
      "\n",
      "    sum_c   = []\n",
      "    sum_c2  = []\n",
      "    N       = []\n",
      "    cc       = []\n",
      "        \n",
      "    for filename in files[0:100]:\n",
      "\n",
      "        c_i = [float(line.strip().split('\\t')[1]) for line in open('career_data/' + filename)]\n",
      "        cc  += c_i\n",
      "        \n",
      "        if len(c_i) > 4:\n",
      "            sum_c   .append(sum([math.log(c) for c in c_i]))\n",
      "            sum_c2  .append(sum([(math.log(c))**2 for c in c_i]))\n",
      "            N       .append(math.log(len(c_i)))\n",
      "       \n",
      "\n",
      "        \n",
      "    sum_c  = np.array(sum_c)\n",
      "    sum_c2 = np.array(sum_c2)\n",
      "\n",
      "\n",
      "    # run the minimizer\n",
      "    # I set an upper and lower limits for the mu_p, mu_Q, mu_N boundaries \n",
      "    # for initial values I used the ones with which I generated the data  #  mu  = [3.1, 2.2, 1.0]\n",
      "    limit = 100.0\n",
      "    bnds  = [(0.0, limit), (0.0, limit), (0.0, limit)]\n",
      "\n",
      "    fun = 0\n",
      "    \n",
      "    for mup in [0,1,2,3,4]:\n",
      "        \n",
      "        for muQ in [0,1,2,3,4]:\n",
      "            \n",
      "            for muN in [0,1,2,3,4]:\n",
      "    \n",
      "                lik_model = minimize(  lik,\n",
      "                                       np.array([mup,muQ,muN]), \n",
      "                                       args=([sum_c, sum_c2, N] , ), \n",
      "                                       method = 'SLSQP', \n",
      "                                       options = {'eps'    : 0.001, \n",
      "                                                  'ftol'   : 0.000001,\n",
      "                                                  'maxiter': 200}, \n",
      "                                       bounds = bnds )#, method='SLSQP', bounds = bnds)\n",
      "\n",
      "\n",
      "                # printing the result, the plotting does not really mean anything here, just a sanity-check that the code works\n",
      "                print mup, muQ, muN, '\\t', lik_model.fun\n",
      "    plt.scatter(sum_c,sum_c2)\n",
      "    plt.plot(sum_c, lik_model['x'][0] * sum_c + lik_model['x'][1])\n",
      "    plt.show()\n",
      "\n",
      "    \n",
      "\n",
      "\n",
      "if __name__ == '__main__':         \n",
      "\n",
      "\n",
      "    optimize()"
     ],
     "language": "python",
     "metadata": {},
     "outputs": [
      {
       "output_type": "stream",
       "stream": "stdout",
       "text": [
        "0 0 0 \t-6424.64692624\n",
        "0 0 1 \t-6324.07433101\n",
        "0 0 2 \t-6424.64692624\n",
        "0 0 3 \t-97973.8001529\n",
        "0 0 4 \t-6392.43265656\n",
        "0 1 0 \t-6290.09332142\n",
        "0"
       ]
      },
      {
       "output_type": "stream",
       "stream": "stdout",
       "text": [
        " 1 1 \t-6424.64692624\n",
        "0 1 2 \t-6424.64692624\n",
        "0 1 3 \t-6111.98496333\n",
        "0 1 4 \t-301680.179187\n",
        "0"
       ]
      },
      {
       "output_type": "stream",
       "stream": "stdout",
       "text": [
        " 2 0 \t-6424.64692624\n",
        "0 2 1 \t-6083.22429026\n",
        "0 2 2 \t-6424.64692624\n",
        "0 2 3 \t-11966.6663048\n",
        "0"
       ]
      },
      {
       "output_type": "stream",
       "stream": "stdout",
       "text": [
        " 2 4 \t-301680.179187\n",
        "0 3 0 \t-6228.61487448\n",
        "0 3 1 \t-6066.61365123\n",
        "0 3 2 \t-6424.64692624\n",
        "0 3 3 \t-5927.64926036\n",
        "0 3 4 \t-102228.391875\n",
        "0"
       ]
      },
      {
       "output_type": "stream",
       "stream": "stdout",
       "text": [
        " 4 0 \t-6301.69003236\n",
        "0 4 1 \t-6119.21259978\n",
        "0 4 2 \t-5998.41451906\n",
        "0 4 3 \t-5939.29579022\n",
        "0 4 4 \t-5941.85641326\n",
        "1 0 0 \t-6424.64692624\n",
        "1 0 1 \t-6424.64692624\n",
        "1"
       ]
      },
      {
       "output_type": "stream",
       "stream": "stdout",
       "text": [
        " 0 2 \t1368664.91322\n",
        "1 0 3 \t1368662.60332\n",
        "1 0 4 \t1368598.61406\n",
        "1 1 0 \t1368549.83898\n",
        "1 1 1 \t-6424.64692624\n",
        "1 1 2 \t-6424.64692624\n",
        "1 1 3 \t1368789.37596\n",
        "1"
       ]
      },
      {
       "output_type": "stream",
       "stream": "stdout",
       "text": [
        " 1 4 \t-185602.502317\n",
        "1 2 0 \t1368545.9734\n",
        "1 2 1 \t1368707.97463\n",
        "1 2 2 \t1368808.2965\n",
        "1 2 3 \t-6424.64692624\n",
        "1 2 4 \t1368823.90219\n",
        "1 3 0 \t1368472.89825\n",
        "1 3 1 \t1368655.37568\n",
        "1"
       ]
      },
      {
       "output_type": "stream",
       "stream": "stdout",
       "text": [
        " 3 2 \t1368776.17376\n",
        "1 3 3 \t1368835.29249\n",
        "1 3 4 \t1368832.73187\n",
        "1 4 0 \t1368330.6135\n",
        "1 4 1 \t1368533.56714\n",
        "1 4 2 \t1368674.84143\n",
        "1 4 3 \t1368754.43637\n",
        "1 4 4 \t1368772.35196\n",
        "2 0 0 \t2743324.42725\n",
        "2"
       ]
      },
      {
       "output_type": "stream",
       "stream": "stdout",
       "text": [
        " 0 1 \t2743465.95227\n",
        "2 0 2 \t-6424.64692624\n",
        "2 0 3 \t2743563.96424\n",
        "2 0 4 \t-301680.179187\n",
        "2 1 0 \t2743320.56168\n",
        "2 1 1 \t2743482.56291\n",
        "2"
       ]
      },
      {
       "output_type": "stream",
       "stream": "stdout",
       "text": [
        " 1 2 \t-6424.64692624\n",
        "2 1 3 \t2743621.5273\n",
        "2 1 4 \t-301680.179187\n",
        "2 2 0 \t2743247.48653\n",
        "2 2 1 \t2743429.96396\n",
        "2 2 2 \t2743550.76204\n",
        "2 2 3 \t2743609.88077\n",
        "2"
       ]
      },
      {
       "output_type": "stream",
       "stream": "stdout",
       "text": [
        " 2 4 \t2743607.32015\n",
        "2 3 0 \t2743105.20178\n",
        "2 3 1 \t2743308.15542\n",
        "2 3 2 \t2743449.42971\n",
        "2 3 3 \t2743529.02465\n",
        "2 3 4 \t2743546.94024\n",
        "2"
       ]
      },
      {
       "output_type": "stream",
       "stream": "stdout",
       "text": [
        " 4 0 \t-335556.744897\n",
        "2 4 1 \t-335556.744897\n",
        "2 4 2 \t-335556.744897\n",
        "2 4 3 \t2743378.95895\n",
        "2 4 4 \t2743417.35074\n",
        "3"
       ]
      },
      {
       "output_type": "stream",
       "stream": "stdout",
       "text": [
        " 0 0 \t4118095.14996\n",
        "3 0 1 \t4118257.15119\n",
        "3 0 2 \t-6424.64692624\n",
        "3 0 3 \t-6424.64692624\n",
        "3 0 4 \t4118373.07874\n",
        "3"
       ]
      },
      {
       "output_type": "stream",
       "stream": "stdout",
       "text": [
        " 1 0 \t4118022.07481\n",
        "3 1 1 \t4118204.55224\n",
        "3 1 2 \t4118325.35032\n",
        "3 1 3 \t4118384.46905\n",
        "3 1 4 \t4118381.90842\n",
        "3 2 0 \t4117879.79006\n",
        "3 2 1 \t4118082.7437\n",
        "3"
       ]
      },
      {
       "output_type": "stream",
       "stream": "stdout",
       "text": [
        " 2 2 \t4118224.01799\n",
        "3 2 3 \t4118303.61293\n",
        "3 2 4 \t4118321.52852\n",
        "3 3 0 \t-335556.744897\n",
        "3 3 1 \t4117891.72558\n",
        "3 3 2 \t-335556.744897\n",
        "3"
       ]
      },
      {
       "output_type": "stream",
       "stream": "stdout",
       "text": [
        " 3 3 \t-16895.9749842\n",
        "3 3 4 \t4118191.93902\n",
        "3 4 0 \t4117387.59181\n",
        "3 4 1 \t4117631.49787\n",
        "3 4 2 \t4117813.72458\n",
        "3 4 3 \t-335556.744897\n",
        "3 4 4 \t-335556.744897\n",
        "4"
       ]
      },
      {
       "output_type": "stream",
       "stream": "stdout",
       "text": [
        " 0 0 \t5492796.66308\n",
        "4 0 1 \t5492979.14052\n",
        "4 0 2 \t5493099.9386\n",
        "4 0 3 \t5493159.05733\n",
        "4 0 4 \t5493156.4967\n",
        "4 1 0 \t5492654.37834\n",
        "4 1 1 \t5492857.33198\n",
        "4 1 2 \t5492998.60627\n",
        "4 1 3 \t5493078.20121\n",
        "4"
       ]
      },
      {
       "output_type": "stream",
       "stream": "stdout",
       "text": [
        " 1 4 \t5493096.1168\n",
        "4 2 0 \t-335556.744897\n",
        "4 2 1 \t-335556.744897\n",
        "4 2 2 \t-335556.744897\n",
        "4"
       ]
      },
      {
       "output_type": "stream",
       "stream": "stdout",
       "text": [
        " 2 3 \t-335556.744897\n",
        "4 2 4 \t5492966.5273\n",
        "4 3 0 \t5492162.18009\n",
        "4 3 1 \t5492406.08615\n",
        "4 3 2 \t5492588.31285\n",
        "4 3 3 \t-335556.744897\n",
        "4"
       ]
      },
      {
       "output_type": "stream",
       "stream": "stdout",
       "text": [
        " 3 4 \t-335556.744897\n",
        "4 4 0 \t5491812.26658\n",
        "4 4 1 \t5492076.64885\n",
        "4 4 2 \t5492279.35177\n",
        "4 4 3 \t5492420.37533\n",
        "4 4 4 \t-335556.744897\n"
       ]
      },
      {
       "metadata": {},
       "output_type": "display_data",
       "png": "[encoded data removed]",
       "text": [
        "<matplotlib.figure.Figure at 0x7fa2dadee710>"
       ]
      }
     ],
     "prompt_number": 26
    },
    {
     "cell_type": "code",
     "collapsed": false,
     "input": [],
     "language": "python",
     "metadata": {},
     "outputs": [],
     "prompt_number": 94
    },
    {
     "cell_type": "code",
     "collapsed": false,
     "input": [],
     "language": "python",
     "metadata": {},
     "outputs": []
    }
   ],
   "metadata": {}
  }
 ]
}