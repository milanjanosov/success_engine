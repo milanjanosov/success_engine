{
 "metadata": {
  "name": "",
  "signature": "sha256:77ef627693ef7dfb9859fbd9857307e8922106e44a214d82f2f619b09d244f46"
 },
 "nbformat": 3,
 "nbformat_minor": 0,
 "worksheets": [
  {
   "cells": [
    {
     "cell_type": "code",
     "collapsed": false,
     "input": [
      "import math\n",
      "import numpy as np\n",
      "from scipy.optimize import minimize\n",
      "import matplotlib.pyplot as plt\n",
      "\n",
      "\n",
      "def gaussian(x, mu, sig):\n",
      "    return 1./(math.sqrt(2.*math.pi)*sig)*np.exp(-np.power((x - mu)/sig, 2.)/2)\n",
      "\n",
      "def lik(parameters):\n",
      "\n",
      "    mu    = parameters[0]\n",
      "    sigma = parameters[1]    \n",
      "    n     = len(x)  \n",
      "    L     = n/2.0 * np.log(2 * np.pi) + n/2.0 * math.log(sigma **2 ) + 1/(2*sigma**2) * sum([(x_ - mu)**2 for x_ in x ])\n",
      "\n",
      "    return L\n",
      "\n",
      "\n",
      "\n",
      "mu0    = 10\n",
      "sigma0 = 2\n",
      "\n",
      "x = np.random.normal(loc=mu0, scale=sigma0, size=20)\n",
      "y = gaussian(x, mu0, sigma0)\n",
      "\n",
      "\n",
      "\n",
      "lik_model = minimize(lik, np.array([2.1,2.1]), method='L-BFGS-B')\n",
      "\n",
      "\n",
      "mu    = lik_model['x'][0]\n",
      "sigma = lik_model['x'][1]\n",
      "\n",
      "print lik_model\n",
      "\n",
      "plt.plot(x, gaussian(x, mu, sigma), label = 'fit')\n",
      "plt.plot(x, y, label = 'data')\n",
      "plt.legend()\n",
      "plt.show()"
     ],
     "language": "python",
     "metadata": {},
     "outputs": []
    },
    {
     "cell_type": "code",
     "collapsed": false,
     "input": [],
     "language": "python",
     "metadata": {},
     "outputs": []
    }
   ],
   "metadata": {}
  }
 ]
}