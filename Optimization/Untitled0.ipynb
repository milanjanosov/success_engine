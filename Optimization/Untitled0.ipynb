{
 "metadata": {
  "name": "",
  "signature": "sha256:52adc2d18ca37675a1be170790998ee05bafc02534a327014c8f06198cbf960b"
 },
 "nbformat": 3,
 "nbformat_minor": 0,
 "worksheets": [
  {
   "cells": [
    {
     "cell_type": "code",
     "collapsed": false,
     "input": [
      "import os\n",
      "import numpy as np\n",
      "import matplotlib.pyplot as plt\n",
      "import math\n",
      "from scipy.optimize import minimize\n",
      "import scipy.stats as stats\n",
      "%matplotlib inline  "
     ],
     "language": "python",
     "metadata": {},
     "outputs": [],
     "prompt_number": 1
    },
    {
     "cell_type": "code",
     "collapsed": false,
     "input": [
      "def rosen(x, *args):\n",
      "    \n",
      "    I = args[0][0]\n",
      "    N = args[0][1]\n",
      "    \n",
      "    ps = [np.exp(pp) for pp in list(np.random.normal(x[0],  1, len(I)))]\n",
      "    Qs = [np.exp(pp) for pp in list(np.random.normal(x[1],  1, len(N)))]\n",
      "    \n",
      "    Isynt = []\n",
      "\n",
      "    for index, n in enumerate(N):\n",
      "        for i in range(n):\n",
      "            Q = Qs[index]\n",
      "            p = ps[0]\n",
      "            ps.remove(p)\n",
      "            impact = Q * p\n",
      "            Isynt.append(impact)\n",
      "\n",
      "            \n",
      "    S = stats.ks_2samp(np.cumsum(I), np.cumsum(Isynt))[0]\n",
      "    print x[0], x[1], S\n",
      "    \n",
      "    return stats.ks_2samp(np.cumsum(I), np.cumsum(Isynt))[0]\n",
      "\n",
      "\n",
      "    #return sum(100.0*(x[1:]-x[:-1]**2.0)**2.0 + (1-x[:-1])**2.0)\n",
      "\n",
      "\n",
      "\n",
      "''' data '''\n",
      "\n",
      "I = []\n",
      "N = []\n",
      "files = os.listdir('career_data')      \n",
      "for filename in files:\n",
      "    c_i = [float(line.strip().split('\\t')[1]) for line in open('career_data/' + filename)]\n",
      "    N.append(len(c_i))\n",
      "    for c in c_i:   \n",
      "        I.append(c)\n",
      "\n",
      "\n",
      "''' optimizer '''\n",
      "\n",
      "\n",
      "        \n",
      "x0 = np.array([8.0, 8.0])#, 1.0, 6.5, 1.0])\n",
      "res = minimize(rosen, x0,  args=([I, N] , ),  method='Nelder-Mead', options={'xtol': 1e-8, 'disp': True, 'maxiter' : 20})\n"
     ],
     "language": "python",
     "metadata": {},
     "outputs": [
      {
       "output_type": "stream",
       "stream": "stdout",
       "text": [
        "8.0 8.0 0.9999579195421646\n",
        "8.4"
       ]
      },
      {
       "output_type": "stream",
       "stream": "stdout",
       "text": [
        " 8.0 0.9999298659036077\n",
        "8.0"
       ]
      },
      {
       "output_type": "stream",
       "stream": "stdout",
       "text": [
        " 8.4 0.9999298659036077\n",
        "8.399999999999999"
       ]
      },
      {
       "output_type": "stream",
       "stream": "stdout",
       "text": [
        " 8.399999999999999 0.9999158390843292\n",
        "8.599999999999998"
       ]
      },
      {
       "output_type": "stream",
       "stream": "stdout",
       "text": [
        " 8.599999999999998 0.9998036245301015\n",
        "9.0"
       ]
      },
      {
       "output_type": "stream",
       "stream": "stdout",
       "text": [
        " 8.199999999999998 0.99981765134938\n",
        "9.199999999999998"
       ]
      },
      {
       "output_type": "stream",
       "stream": "stdout",
       "text": [
        " 8.799999999999997 0.9997475172529877\n",
        "9.599999999999998"
       ]
      },
      {
       "output_type": "stream",
       "stream": "stdout",
       "text": [
        " 9.199999999999996 0.9992285249396847\n",
        "9.199999999999996"
       ]
      },
      {
       "output_type": "stream",
       "stream": "stdout",
       "text": [
        " 9.599999999999996 0.9991303372047354\n",
        "9.299999999999994"
       ]
      },
      {
       "output_type": "stream",
       "stream": "stdout",
       "text": [
        " 10.299999999999994 0.9987095326263816\n",
        "10.299999999999994"
       ]
      },
      {
       "output_type": "stream",
       "stream": "stdout",
       "text": [
        " 10.899999999999991 0.9955114178308927\n",
        "11.149999999999991"
       ]
      },
      {
       "output_type": "stream",
       "stream": "stdout",
       "text": [
        " 12.04999999999999 0.9735734724793805\n",
        "10.849999999999987"
       ]
      },
      {
       "output_type": "stream",
       "stream": "stdout",
       "text": [
        " 13.149999999999988 0.9547354541884082\n",
        "11.47499999999998"
       ]
      },
      {
       "output_type": "stream",
       "stream": "stdout",
       "text": [
        " 15.124999999999986 0.221146832744207\n",
        "13.324999999999978"
       ]
      },
      {
       "output_type": "stream",
       "stream": "stdout",
       "text": [
        " 16.874999999999982 0.957134040285025\n",
        "13.649999999999967"
       ]
      },
      {
       "output_type": "stream",
       "stream": "stdout",
       "text": [
        " 19.949999999999978 0.9973629579756494\n",
        "11.774999999999984"
       ]
      },
      {
       "output_type": "stream",
       "stream": "stdout",
       "text": [
        " 14.024999999999988 0.6977080177298995\n",
        "9.924999999999986"
       ]
      },
      {
       "output_type": "stream",
       "stream": "stdout",
       "text": [
        " 12.274999999999991 0.9887504909386747\n",
        "12.47499999999998"
       ]
      },
      {
       "output_type": "stream",
       "stream": "stdout",
       "text": [
        " 15.724999999999984 0.7191129439488302\n",
        "10.774999999999984"
       ]
      },
      {
       "output_type": "stream",
       "stream": "stdout",
       "text": [
        " 13.42499999999999 0.9482410368624811\n",
        "12.049999999999981"
       ]
      },
      {
       "output_type": "stream",
       "stream": "stdout",
       "text": [
        " 15.149999999999984 0.2609549458564776\n",
        "11.749999999999979"
       ]
      },
      {
       "output_type": "stream",
       "stream": "stdout",
       "text": [
        " 16.249999999999982 0.6552628625932784\n",
        "11.75624999999998"
       ]
      },
      {
       "output_type": "stream",
       "stream": "stdout",
       "text": [
        " 15.693749999999982 0.4859170734444257\n",
        "11.768749999999983"
       ]
      },
      {
       "output_type": "stream",
       "stream": "stdout",
       "text": [
        " 14.581249999999988 0.38709813162767215\n",
        "11.765624999999982"
       ]
      },
      {
       "output_type": "stream",
       "stream": "stdout",
       "text": [
        " 14.859374999999986 0.23772653313134717\n",
        "11.190624999999981"
       ]
      },
      {
       "output_type": "stream",
       "stream": "stdout",
       "text": [
        " 14.834374999999987 0.5475228637154239\n",
        "11.835156249999981"
       ]
      },
      {
       "output_type": "stream",
       "stream": "stdout",
       "text": [
        " 15.071093749999985 0.040733883184649045\n",
        "11.54453124999998"
       ]
      },
      {
       "output_type": "stream",
       "stream": "stdout",
       "text": [
        " 15.336718749999985 0.0856197048757224\n",
        "11.90468749999998"
       ]
      },
      {
       "output_type": "stream",
       "stream": "stdout",
       "text": [
        " 15.282812499999984 0.24576390057790498\n",
        "11.58242187499998"
       ]
      },
      {
       "output_type": "stream",
       "stream": "stdout",
       "text": [
        " 15.164453124999985 0.1221034618189979\n",
        "11.79726562499998"
       ]
      },
      {
       "output_type": "stream",
       "stream": "stdout",
       "text": [
        " 15.243359374999985 0.15022723447231112\n",
        "11.63613281249998"
       ]
      },
      {
       "output_type": "stream",
       "stream": "stdout",
       "text": [
        " 15.184179687499984 0.036076979184200164\n",
        "11.926757812499982"
       ]
      },
      {
       "output_type": "stream",
       "stream": "stdout",
       "text": [
        " 14.918554687499984 0.0596700892105706\n",
        "11.831201171874982"
       ]
      },
      {
       "output_type": "stream",
       "stream": "stdout",
       "text": [
        " 15.023095703124985 0.02841833585816078\n",
        "11.632177734374979"
       ]
      },
      {
       "output_type": "stream",
       "stream": "stdout",
       "text": [
        " 15.136181640624986 0.11218650058912649\n",
        "11.784411621093732"
       ]
      },
      {
       "output_type": "stream",
       "stream": "stdout",
       "text": [
        " 15.087365722656235 0.0681843685125961\n",
        "11.73366699218748"
       ]
      },
      {
       "output_type": "stream",
       "stream": "stdout",
       "text": [
        " 15.103637695312486 0.07540818044100323\n",
        "11.833178710937482"
       ]
      },
      {
       "output_type": "stream",
       "stream": "stdout",
       "text": [
        " 15.047094726562484 0.06847893171744379\n",
        "11.930712890624982"
       ]
      },
      {
       "output_type": "stream",
       "stream": "stdout",
       "text": [
        " 14.966552734374986 0.04968299388430686\n",
        "Warning: Maximum number of iterations has been exceeded.\n"
       ]
      }
     ],
     "prompt_number": 16
    },
    {
     "cell_type": "code",
     "collapsed": false,
     "input": [],
     "language": "python",
     "metadata": {},
     "outputs": []
    }
   ],
   "metadata": {}
  }
 ]
}